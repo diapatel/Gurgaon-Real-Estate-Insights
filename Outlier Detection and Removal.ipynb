{
 "cells": [
  {
   "cell_type": "code",
   "execution_count": null,
   "id": "4b905344-6670-4d96-91ed-8325e27cc518",
   "metadata": {},
   "outputs": [],
   "source": [
    "import pandas as pd\n",
    "import numpy as np\n",
    "import matplotlib.pyplot as plt\n",
    "import seaborn as sns\n",
    "\n",
    "import warnings\n",
    "warnings.filterwarnings(\"ignore\")"
   ]
  },
  {
   "cell_type": "code",
   "execution_count": null,
   "id": "a8d804a3-f372-47e5-8a04-3c8f5ce5c413",
   "metadata": {},
   "outputs": [],
   "source": [
    "data = pd.read_csv(\"./gurgaon_properties_cleaned_v1.csv\").drop_duplicates()\n",
    "data.head()"
   ]
  },
  {
   "cell_type": "markdown",
   "id": "c218ea46-8893-4734-9d60-b97c325a27f2",
   "metadata": {},
   "source": [
    "# Price"
   ]
  },
  {
   "cell_type": "code",
   "execution_count": null,
   "id": "8ffd139d-b635-47a8-b974-b4a26a40b90e",
   "metadata": {},
   "outputs": [],
   "source": [
    "data[\"price\"].describe()"
   ]
  },
  {
   "cell_type": "code",
   "execution_count": null,
   "id": "2f1e8be3-2ca2-4abc-b965-eff766c1e12b",
   "metadata": {},
   "outputs": [],
   "source": [
    "sns.distplot(data[\"price\"])\n",
    "plt.show()"
   ]
  },
  {
   "cell_type": "code",
   "execution_count": null,
   "id": "fcac3863-5e18-475c-8706-3b81f4977d7f",
   "metadata": {},
   "outputs": [],
   "source": [
    "# price is not normally distributed so, plotting a boxplot\n",
    "sns.boxplot(data[\"price\"])\n",
    "plt.show()"
   ]
  },
  {
   "cell_type": "code",
   "execution_count": null,
   "id": "776f28e7-1bb6-46a3-9654-f645242aca2c",
   "metadata": {},
   "outputs": [],
   "source": [
    "# using IQR method to detect outliers\n",
    "Q1 = data[\"price\"].quantile(0.25)\n",
    "Q3 = data[\"price\"].quantile(0.75)\n",
    "IQR = Q3 - Q1\n",
    "\n",
    "lower_bound = Q1 - (1.5*IQR)\n",
    "upper_bound = Q3 + (1.5*IQR)\n",
    "\n",
    "filt = (data[\"price\"] < lower_bound) | (data[\"price\"] > upper_bound)\n",
    "price_outlier_df = data[filt]\n",
    "\n",
    "num_outliers = price_outlier_df.shape[0]\n",
    "num_outliers, price_outlier_df[\"price\"].describe()"
   ]
  },
  {
   "cell_type": "markdown",
   "id": "d55de3a0-a9cc-477d-8909-8ab9d121fb4c",
   "metadata": {},
   "source": [
    "- Based on the price column -> there are some genuine outliers, i.e., there are some actual properties that are worth the high price but there are some data errors as well"
   ]
  },
  {
   "cell_type": "code",
   "execution_count": null,
   "id": "586b6352-d172-451f-8f7a-8f71ccc1e57d",
   "metadata": {},
   "outputs": [],
   "source": []
  },
  {
   "cell_type": "markdown",
   "id": "a4ea98ab-d79c-48f5-a148-5c862282ae64",
   "metadata": {},
   "source": [
    "# price per square feet"
   ]
  },
  {
   "cell_type": "code",
   "execution_count": null,
   "id": "e17ea7d4-0737-48d7-9afc-6281cae87b2c",
   "metadata": {},
   "outputs": [],
   "source": [
    "data[\"price_per_sqft\"].describe()"
   ]
  },
  {
   "cell_type": "code",
   "execution_count": null,
   "id": "af03abe5-2901-4c92-bc19-238429b76d89",
   "metadata": {},
   "outputs": [],
   "source": [
    "sns.distplot(data[\"price_per_sqft\"])\n",
    "plt.show()"
   ]
  },
  {
   "cell_type": "code",
   "execution_count": null,
   "id": "cbc73539-0427-41ef-b3e5-714757a8f89f",
   "metadata": {},
   "outputs": [],
   "source": [
    "sns.boxplot(data[\"price_per_sqft\"])\n",
    "plt.title(\"price_per_sqft\")\n",
    "plt.show()"
   ]
  },
  {
   "cell_type": "code",
   "execution_count": null,
   "id": "5e41e9d4-c26f-4aba-8d99-2efc2d62a27f",
   "metadata": {},
   "outputs": [],
   "source": [
    "# using IQR method to detect outliers\n",
    "Q1 = data[\"price_per_sqft\"].quantile(0.25)\n",
    "Q3 = data[\"price_per_sqft\"].quantile(0.75)\n",
    "IQR = Q3 - Q1\n",
    "\n",
    "lower_bound = Q1 - (1.5*IQR)\n",
    "upper_bound = Q3 + (1.5*IQR)\n",
    "\n",
    "filt = (data[\"price_per_sqft\"] < lower_bound) | (data[\"price_per_sqft\"] > upper_bound)\n",
    "pps_outlier_df = data[filt]\n",
    "\n",
    "num_outliers = pps_outlier_df.shape[0]\n",
    "num_outliers, pps_outlier_df[\"price_per_sqft\"].describe()"
   ]
  },
  {
   "cell_type": "code",
   "execution_count": null,
   "id": "46197c4d-3e1d-459e-bd95-5ffbe50ff721",
   "metadata": {
    "tags": []
   },
   "outputs": [],
   "source": [
    "pps_outlier_df.head(10)"
   ]
  },
  {
   "cell_type": "markdown",
   "id": "c7ebbd11-70e1-4d27-a322-5b8961704745",
   "metadata": {},
   "source": [
    "- Turns out that properties where area < 1000, the area is in sq yards and since , price per sqft has been calculated based on area , price per sqft is inaccurate."
   ]
  },
  {
   "cell_type": "code",
   "execution_count": null,
   "id": "27422930-218a-42aa-827a-b5a73b0fea56",
   "metadata": {
    "tags": []
   },
   "outputs": [],
   "source": [
    "pps_outlier_df[pps_outlier_df['area'] < 1000]"
   ]
  },
  {
   "cell_type": "code",
   "execution_count": null,
   "id": "ae66e5ed-9941-4092-a6c9-41e33784aabf",
   "metadata": {},
   "outputs": [],
   "source": [
    "pps_outlier_df[\"area\"] = pps_outlier_df[\"area\"].apply(lambda x: x * 9 if x<1000 else x)\n",
    "pps_outlier_df[\"builtup_area\"] = pps_outlier_df[\"builtup_area\"].apply(lambda x: x * 9 if x<1000 else x)\n",
    "pps_outlier_df[\"carpet_area\"] = pps_outlier_df[\"carpet_area\"].apply(lambda x: x * 9 if x<1000 else x)"
   ]
  },
  {
   "cell_type": "code",
   "execution_count": null,
   "id": "5f5739a6-4765-4a23-bb3f-94245abe2d10",
   "metadata": {},
   "outputs": [],
   "source": [
    "data.update(pps_outlier_df)"
   ]
  },
  {
   "cell_type": "code",
   "execution_count": null,
   "id": "1489187a-7df0-466a-be6f-86b63f29920e",
   "metadata": {},
   "outputs": [],
   "source": [
    "data[\"price_per_sqft\"] = (data[\"price\"] * 10000000) / data[\"area\"]"
   ]
  },
  {
   "cell_type": "code",
   "execution_count": null,
   "id": "d4048640-05a4-4de7-b195-0124c5f7051b",
   "metadata": {},
   "outputs": [],
   "source": [
    "sns.boxplot(data[\"price_per_sqft\"])\n",
    "plt.title(\"price per sqft after converting sq yards to sqft\")\n",
    "plt.show()"
   ]
  },
  {
   "cell_type": "code",
   "execution_count": null,
   "id": "feda1f6f-dfac-4b0d-85c5-20060a9301c6",
   "metadata": {},
   "outputs": [],
   "source": [
    "data[data[\"price_per_sqft\"] > 50000].shape[0]"
   ]
  },
  {
   "cell_type": "markdown",
   "id": "4150f912-6498-448d-a9f4-ef4178d7f9d3",
   "metadata": {},
   "source": [
    "- There are 5 properties where price per sqft is > 50000, so dropping them"
   ]
  },
  {
   "cell_type": "code",
   "execution_count": null,
   "id": "5e02e33d-81bc-4c05-ad72-9b7bdef3752a",
   "metadata": {},
   "outputs": [],
   "source": [
    "data = data[data[\"price_per_sqft\"] <= 50000]"
   ]
  },
  {
   "cell_type": "code",
   "execution_count": null,
   "id": "08f1a45d-ddd9-4574-ad61-473794a4edf1",
   "metadata": {},
   "outputs": [],
   "source": [
    "sns.boxplot(data[\"price_per_sqft\"])\n",
    "plt.title(\"price per sqft after outlier removal\")\n",
    "plt.show()"
   ]
  },
  {
   "cell_type": "code",
   "execution_count": null,
   "id": "01e6454e-5050-4884-8b93-0407b6c627bd",
   "metadata": {},
   "outputs": [],
   "source": []
  },
  {
   "cell_type": "markdown",
   "id": "033df7b7-52e9-42a7-ba92-6528ce5b68fc",
   "metadata": {},
   "source": [
    "# Area "
   ]
  },
  {
   "cell_type": "code",
   "execution_count": null,
   "id": "e884c367-e916-42a5-a99a-1a43ffaa99fd",
   "metadata": {},
   "outputs": [],
   "source": [
    "sns.distplot(data[\"area\"])\n",
    "plt.show()"
   ]
  },
  {
   "cell_type": "code",
   "execution_count": null,
   "id": "0c59a87d-2495-41fa-a452-0c038d8f4d75",
   "metadata": {},
   "outputs": [],
   "source": [
    "data[data[\"area\"] > 100000]"
   ]
  },
  {
   "cell_type": "markdown",
   "id": "f3232267-09e8-4ebe-ab72-b70a5b45979e",
   "metadata": {},
   "source": [
    "- There are properties where area is >100000, but it is not justified by the price which ranges from 31 lakhs to 5 crores.\n",
    "- so, these are data errors, hence dropping them"
   ]
  },
  {
   "cell_type": "code",
   "execution_count": null,
   "id": "6330f82f-9127-4561-8157-d8b2c3804669",
   "metadata": {},
   "outputs": [],
   "source": [
    "data = data[data[\"area\"] < 100000]"
   ]
  },
  {
   "cell_type": "code",
   "execution_count": null,
   "id": "bfbe8083-7fa0-4839-97a5-e91c56c66dc4",
   "metadata": {},
   "outputs": [],
   "source": [
    "# analyzing data where area is >10000\n",
    "\n",
    "data[data[\"area\"] > 10000]"
   ]
  },
  {
   "cell_type": "markdown",
   "id": "d04a8884-45b7-4624-b8d1-87227c75b3b3",
   "metadata": {},
   "source": [
    "- These are rows where the area is > 10000 but the price is in lakhs, which is illogical , so dropping those -> 452, 1559, 1562, 1563, 1564, 2469"
   ]
  },
  {
   "cell_type": "code",
   "execution_count": null,
   "id": "16a3c36f-4887-4190-904d-85d3b3f21666",
   "metadata": {},
   "outputs": [],
   "source": [
    "data.drop(index=[452, 1559, 1562, 1563, 1564, 2469], inplace=True)"
   ]
  },
  {
   "cell_type": "code",
   "execution_count": null,
   "id": "ff7ac622-f3d0-4cf0-9af1-47e7be0bcf83",
   "metadata": {},
   "outputs": [],
   "source": [
    "data[data[\"area\"] > 10000]"
   ]
  },
  {
   "cell_type": "markdown",
   "id": "54370fbb-101e-44bc-97c9-f24b19820bbf",
   "metadata": {},
   "source": [
    "- in row `63`, house with area 22498 sqft is costing just 6.25 crore. but on 99acres, properties with area around 6000 sqft itself cost more than 6 crores. so this is a data error.\n",
    "- in row `1860`, flat in MRM Golfestate has area 11000 sqft and costs 13.20 Cr. but a flat there with area around 5207 sqft costs 5.2 Cr. So, even by extension this seems to be  a data error.\n",
    "- and so is with rows `2555` and `2883`\n",
    "- so , dropping them"
   ]
  },
  {
   "cell_type": "code",
   "execution_count": null,
   "id": "25553919-44ae-4861-9706-d982ba689f69",
   "metadata": {},
   "outputs": [],
   "source": [
    "data.drop(index=[63,1860,2555,2883], inplace=True)"
   ]
  },
  {
   "cell_type": "code",
   "execution_count": null,
   "id": "4085b03a-ef63-4eb4-a288-9a7be7acb0b7",
   "metadata": {},
   "outputs": [],
   "source": [
    "sns.distplot(data[\"area\"])\n",
    "plt.title(\"Area after outlier removal\")\n",
    "plt.show()"
   ]
  },
  {
   "cell_type": "code",
   "execution_count": null,
   "id": "4333e87f-b5b3-43be-8007-63e9d412c8db",
   "metadata": {},
   "outputs": [],
   "source": []
  },
  {
   "cell_type": "markdown",
   "id": "1e45c257-7216-436f-a254-94f04b6fef35",
   "metadata": {},
   "source": [
    "# bedRoom"
   ]
  },
  {
   "cell_type": "code",
   "execution_count": null,
   "id": "b5769e44-02ba-4bc9-bc82-3507d823e204",
   "metadata": {},
   "outputs": [],
   "source": [
    "data[\"bedRoom\"].describe()"
   ]
  },
  {
   "cell_type": "code",
   "execution_count": null,
   "id": "456698f0-a1c0-4d91-997f-8dc1fd7d4474",
   "metadata": {},
   "outputs": [],
   "source": [
    "sns.distplot(data[\"bedRoom\"])\n",
    "plt.show()"
   ]
  },
  {
   "cell_type": "code",
   "execution_count": null,
   "id": "c1c7c9da-4b48-4a42-a298-6e8b35b628a0",
   "metadata": {
    "tags": []
   },
   "outputs": [],
   "source": [
    "data[data[\"bedRoom\"]>10]"
   ]
  },
  {
   "cell_type": "markdown",
   "id": "ad9af761-62c2-4a5b-98b5-8527f9502669",
   "metadata": {},
   "source": [
    "- In rows where number of bedrooms is > 10, it doesn't seem logical that the specified area could have those many bedrooms. \n",
    "- and we're gonna keep bedrooms as a part of our predictor model, so we are dropping these rows"
   ]
  },
  {
   "cell_type": "code",
   "execution_count": null,
   "id": "204d6633-1de5-41e9-b328-c88482910a37",
   "metadata": {},
   "outputs": [],
   "source": [
    "data = data[data[\"bedRoom\"] <= 10]"
   ]
  },
  {
   "cell_type": "code",
   "execution_count": null,
   "id": "a7057fb3-7257-4b21-961d-8082a2b7c843",
   "metadata": {},
   "outputs": [],
   "source": [
    "sns.distplot(data[\"bedRoom\"])\n",
    "plt.title(\"Distribution of bedRoom after outlier removal\")\n",
    "plt.show()"
   ]
  },
  {
   "cell_type": "code",
   "execution_count": null,
   "id": "365fdae5-0e4c-47c3-b70d-8d5b42e491e3",
   "metadata": {},
   "outputs": [],
   "source": []
  },
  {
   "cell_type": "markdown",
   "id": "f1ed0719-6cf5-4deb-b9c5-f9e31aa07830",
   "metadata": {},
   "source": [
    "# bathrooms"
   ]
  },
  {
   "cell_type": "code",
   "execution_count": null,
   "id": "d9aeca98-0691-4c15-b1b8-a766eb488bb1",
   "metadata": {},
   "outputs": [],
   "source": [
    "sns.distplot(data[\"bathroom\"])\n",
    "plt.show()"
   ]
  },
  {
   "cell_type": "code",
   "execution_count": null,
   "id": "dd2b15bb-77a8-4a2d-957e-a1d69dd5e5bc",
   "metadata": {},
   "outputs": [],
   "source": [
    "data[data[\"bathroom\"] > 10]"
   ]
  },
  {
   "cell_type": "markdown",
   "id": "008fe6c9-e8b7-4f7d-a52a-57c0688250e1",
   "metadata": {},
   "source": [
    "- In rows where number of bathrooms > 10 (`158`, `182`), the number of bathrooms makes sense given the area and price of the properties. so, keeping those"
   ]
  },
  {
   "cell_type": "code",
   "execution_count": null,
   "id": "a5bc24e1-aa1b-45ff-bae0-7199dd5e46a2",
   "metadata": {},
   "outputs": [],
   "source": []
  },
  {
   "cell_type": "markdown",
   "id": "95a485b9-cb83-4740-bbaa-508c919fae28",
   "metadata": {},
   "source": [
    "# super built up area"
   ]
  },
  {
   "cell_type": "code",
   "execution_count": null,
   "id": "7c9e9c5b-8ef4-4202-a173-9caee5a43ca7",
   "metadata": {},
   "outputs": [],
   "source": [
    "sns.distplot(data[\"super_builtup_area\"])\n",
    "plt.show()"
   ]
  },
  {
   "cell_type": "code",
   "execution_count": null,
   "id": "fd714892-32d3-44fe-8894-9bdefa9f896a",
   "metadata": {},
   "outputs": [],
   "source": [
    "sns.boxplot(data[\"super_builtup_area\"])\n",
    "plt.show()"
   ]
  },
  {
   "cell_type": "code",
   "execution_count": null,
   "id": "1fcb77a1-8294-4e94-b82e-e501f098d7a2",
   "metadata": {},
   "outputs": [],
   "source": []
  },
  {
   "cell_type": "markdown",
   "id": "906fafbd-d755-4189-9b4d-fba6a9f37bad",
   "metadata": {},
   "source": [
    "# Builtup area"
   ]
  },
  {
   "cell_type": "code",
   "execution_count": null,
   "id": "a751723d-18f6-4822-8850-aeacfa8498ab",
   "metadata": {},
   "outputs": [],
   "source": [
    "sns.distplot(data[\"builtup_area\"])\n",
    "plt.show()"
   ]
  },
  {
   "cell_type": "code",
   "execution_count": null,
   "id": "0628cd85-5196-45d0-92ae-f339ca1102cc",
   "metadata": {},
   "outputs": [],
   "source": [
    "sns.boxplot(data[\"builtup_area\"])\n",
    "plt.show()"
   ]
  },
  {
   "cell_type": "code",
   "execution_count": null,
   "id": "f6460255-54cc-4f79-ba23-74ed452e64d5",
   "metadata": {},
   "outputs": [],
   "source": []
  },
  {
   "cell_type": "markdown",
   "id": "31ae45f4-ebdc-4709-85e4-46999fc918ff",
   "metadata": {},
   "source": [
    "# Carpet area"
   ]
  },
  {
   "cell_type": "code",
   "execution_count": null,
   "id": "f27c0145-77e9-43c2-b83f-ed04e9aece83",
   "metadata": {},
   "outputs": [],
   "source": [
    "sns.distplot(data[\"carpet_area\"])\n",
    "plt.show()"
   ]
  },
  {
   "cell_type": "code",
   "execution_count": null,
   "id": "eb62175e-893d-4614-9083-ac026e9ad2bc",
   "metadata": {},
   "outputs": [],
   "source": [
    "sns.boxplot(data[\"carpet_area\"])\n",
    "plt.show()"
   ]
  },
  {
   "cell_type": "code",
   "execution_count": null,
   "id": "9ecc8b75-9516-4a09-9e76-6de2c0f75f62",
   "metadata": {},
   "outputs": [],
   "source": [
    "data[data[\"carpet_area\"] > 6000]"
   ]
  },
  {
   "cell_type": "code",
   "execution_count": null,
   "id": "1c9881b4-6e67-4857-914f-9efb7d14c1dc",
   "metadata": {},
   "outputs": [],
   "source": []
  },
  {
   "cell_type": "markdown",
   "id": "fa62c830-afdf-4467-b43b-d07b0a033c58",
   "metadata": {},
   "source": [
    "# area to bedroom ratio\n",
    "There are certain properties where the area is very small say, around 1200 sq ft but the number of bedrooms is quite high like 9 or 10"
   ]
  },
  {
   "cell_type": "code",
   "execution_count": null,
   "id": "88bb96b7-1224-4657-a6d9-275218102363",
   "metadata": {
    "tags": []
   },
   "outputs": [],
   "source": [
    "data= pd.read_csv(\"./gurgaon_properties_post_outlier_removal.csv\").drop(columns=\"Unnamed: 0\")\n",
    "data.head()"
   ]
  },
  {
   "cell_type": "code",
   "execution_count": null,
   "id": "509eb5bd-310d-4121-b01f-1ebd2931364b",
   "metadata": {},
   "outputs": [],
   "source": [
    "(data[\"area\"] / data[\"bedRoom\"]).quantile(0.05)"
   ]
  },
  {
   "cell_type": "markdown",
   "id": "a2e3c72d-164a-416e-b2ba-02a18e82fe86",
   "metadata": {},
   "source": [
    "if area to bedroom ratio is less than 295, it can be an outlier"
   ]
  },
  {
   "cell_type": "code",
   "execution_count": null,
   "id": "613bb72d-3d17-44e2-8755-e0d29acfa1a8",
   "metadata": {},
   "outputs": [],
   "source": [
    "data[\"area_to_bedroom_ratio\"] = data[\"area\"] / data[\"bedRoom\"]"
   ]
  },
  {
   "cell_type": "code",
   "execution_count": null,
   "id": "9eb2bf5b-5bd2-4d8e-84dc-1f7574697e3b",
   "metadata": {},
   "outputs": [],
   "source": [
    "ab_outlier_df = data[data[\"area_to_bedroom_ratio\"] < 295]"
   ]
  },
  {
   "cell_type": "code",
   "execution_count": null,
   "id": "4f54e7e8-e222-40ce-87d9-adfca43828a5",
   "metadata": {},
   "outputs": [],
   "source": [
    "ab_outlier_df.to_csv(\"ab_outlier.csv\")"
   ]
  },
  {
   "cell_type": "markdown",
   "id": "08b0f8bb-d90f-44f8-bb25-5f7ee59a950b",
   "metadata": {},
   "source": [
    "- Dropping rows where area to bedroom ratio < 100"
   ]
  },
  {
   "cell_type": "code",
   "execution_count": null,
   "id": "bf1c9086-442b-4a07-a0de-795230bb5112",
   "metadata": {},
   "outputs": [],
   "source": [
    "data = data[data[\"area_to_bedroom_ratio\"] > 100]"
   ]
  },
  {
   "cell_type": "markdown",
   "id": "af25a34f-c208-4033-ad44-dee86f778968",
   "metadata": {},
   "source": [
    "- There are properties with multiple floors. so, say there are 9 bedrooms but 3 floors, then it is possible to have 3 bedrooms on each floor and the plot area might actually justify it. so, to get the number of bedrooms per floor, divide bedRooms by floorNum"
   ]
  },
  {
   "cell_type": "code",
   "execution_count": null,
   "id": "6b4113a2-f514-4d20-8c8f-582d04966278",
   "metadata": {},
   "outputs": [],
   "source": [
    "data[\"bedRoom\"] =round(data[\"bedRoom\"] / data[\"floorNum\"])"
   ]
  },
  {
   "cell_type": "code",
   "execution_count": null,
   "id": "c0483f71-45f5-4f09-a152-0d94aef6e497",
   "metadata": {},
   "outputs": [],
   "source": [
    "# recalculating the area to bedroom ratio\n",
    "data[\"area_to_bedroom_ratio\"] = data[\"area\"] / data[\"bedRoom\"]"
   ]
  },
  {
   "cell_type": "code",
   "execution_count": null,
   "id": "68889c4b-603b-46e3-a8f0-1970c0d5b4d1",
   "metadata": {
    "tags": []
   },
   "outputs": [],
   "source": [
    "data[data[\"area_to_bedroom_ratio\"] < 295]"
   ]
  },
  {
   "cell_type": "markdown",
   "id": "469affaf-0e38-4285-8e76-ef20153b70df",
   "metadata": {},
   "source": [
    "- row 71 -> 9 bedrooms in 2471 sqft -> illogical\n",
    "- rows = `101`, `102`, `1470`, `2181`, `2351` -> there's 3 or 4 bedrooms in areas <= 800 ft on a single floor. -> dropping them"
   ]
  },
  {
   "cell_type": "code",
   "execution_count": null,
   "id": "f095eb3e-c6fc-471f-916b-3ad54f41fb17",
   "metadata": {},
   "outputs": [],
   "source": [
    "data.drop(index=[71,101,102,1470,2181,2351], inplace=True)"
   ]
  },
  {
   "cell_type": "code",
   "execution_count": null,
   "id": "11e66833-6025-4a9c-bed7-f67646627227",
   "metadata": {},
   "outputs": [],
   "source": [
    "data[data[\"area_to_bedroom_ratio\"] < 295]"
   ]
  },
  {
   "cell_type": "markdown",
   "id": "daf5fdca-7ee0-46dd-8323-402294e7309f",
   "metadata": {},
   "source": [
    "- in rows `115`, `165`, `520` -> there's again a large number of bedrooms in small area and a single floor -> dropping them"
   ]
  },
  {
   "cell_type": "code",
   "execution_count": null,
   "id": "7d415463-0647-4de7-b653-8d465657b3da",
   "metadata": {},
   "outputs": [],
   "source": [
    "data.drop(index=[115,165,520], inplace=True)"
   ]
  },
  {
   "cell_type": "code",
   "execution_count": null,
   "id": "1d20dd9c-d7a8-4977-8581-2d022fa6d618",
   "metadata": {},
   "outputs": [],
   "source": [
    "sns.lmplot(data=data, x=\"area\", y=\"bedRoom\")\n",
    "plt.show()"
   ]
  },
  {
   "cell_type": "code",
   "execution_count": null,
   "id": "6d7b18e5-9805-48ca-9cb2-9ea800197093",
   "metadata": {},
   "outputs": [],
   "source": []
  },
  {
   "cell_type": "markdown",
   "id": "61148c05-577d-4087-9f80-f552b27e9a15",
   "metadata": {},
   "source": [
    "# exporting as csv"
   ]
  },
  {
   "cell_type": "code",
   "execution_count": null,
   "id": "8b454f94-401b-43f2-beb7-346cf14a6177",
   "metadata": {},
   "outputs": [],
   "source": [
    "data.shape"
   ]
  },
  {
   "cell_type": "code",
   "execution_count": null,
   "id": "7ba02fdf-1af0-48d9-b88b-936b187a7002",
   "metadata": {},
   "outputs": [],
   "source": [
    "data.to_csv(\"gurgaon_properties_after_outlier_treatment.csv\")"
   ]
  },
  {
   "cell_type": "code",
   "execution_count": null,
   "id": "1d7d0104-3fa7-4b53-bfc5-382957ce1746",
   "metadata": {},
   "outputs": [],
   "source": []
  },
  {
   "cell_type": "code",
   "execution_count": null,
   "id": "c85055f0-c637-4345-8b98-6e1a4cd3571d",
   "metadata": {},
   "outputs": [],
   "source": []
  },
  {
   "cell_type": "code",
   "execution_count": null,
   "id": "c678bde4-506d-425c-9e52-3ffee671fc57",
   "metadata": {},
   "outputs": [],
   "source": []
  },
  {
   "cell_type": "code",
   "execution_count": null,
   "id": "cf938743-6873-4cb7-9d0e-faf2fd3cd438",
   "metadata": {},
   "outputs": [],
   "source": []
  }
 ],
 "metadata": {
  "kernelspec": {
   "display_name": "Python 3 (ipykernel)",
   "language": "python",
   "name": "python3"
  },
  "language_info": {
   "codemirror_mode": {
    "name": "ipython",
    "version": 3
   },
   "file_extension": ".py",
   "mimetype": "text/x-python",
   "name": "python",
   "nbconvert_exporter": "python",
   "pygments_lexer": "ipython3",
   "version": "3.9.13"
  }
 },
 "nbformat": 4,
 "nbformat_minor": 5
}
