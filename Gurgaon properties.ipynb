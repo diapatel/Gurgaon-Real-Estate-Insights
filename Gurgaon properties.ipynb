{
 "cells": [
  {
   "cell_type": "code",
   "execution_count": 54,
   "id": "d32bfa61-06e5-4e04-bf5b-12d9b13840a2",
   "metadata": {},
   "outputs": [],
   "source": [
    "import pandas as pd\n",
    "import numpy as np\n",
    "\n",
    "import warnings\n",
    "warnings.filterwarnings(\"ignore\")"
   ]
  },
  {
   "cell_type": "code",
   "execution_count": 9,
   "id": "8ac7b06a-9e1b-4b39-8827-ff31f24569f7",
   "metadata": {},
   "outputs": [],
   "source": [
    "houses = pd.read_csv(\"./houses_cleaned.csv\")\n",
    "flats = pd.read_csv(\"./flats_cleaned.csv\")"
   ]
  },
  {
   "cell_type": "code",
   "execution_count": 17,
   "id": "e0a09ac8-fbef-40dd-8395-67757b3752d7",
   "metadata": {},
   "outputs": [],
   "source": [
    "data = pd.concat([houses, flats]).drop(columns=\"Unnamed: 0\")"
   ]
  },
  {
   "cell_type": "code",
   "execution_count": 19,
   "id": "222c9261-0432-43e7-a236-435cc0224e1f",
   "metadata": {},
   "outputs": [],
   "source": [
    "data[\"property_name\"] = data[\"property_name\"].str.strip().str.lower()"
   ]
  },
  {
   "cell_type": "code",
   "execution_count": 23,
   "id": "30badda2-e4cb-43b0-bcc7-e7c6fe5ca93c",
   "metadata": {},
   "outputs": [
    {
     "data": {
      "text/plain": [
       "['70a']"
      ]
     },
     "execution_count": 23,
     "metadata": {},
     "output_type": "execute_result"
    }
   ],
   "source": [
    "import re\n",
    "pattern = r\"sector (\\d+\\w*)\"\n",
    "text = \" bedroom house for sale in sector 70a gurgaon\"\n",
    "re.findall(pattern, text)"
   ]
  },
  {
   "cell_type": "code",
   "execution_count": 29,
   "id": "61991b41-bb2a-439b-bb76-15e47bf83645",
   "metadata": {},
   "outputs": [],
   "source": [
    "pattern = r\"(sector\\s?[^\\*]\\s?\\d+\\w*)\"\n",
    "data[\"sector\"] = data[\"property_name\"].str.extract(pattern)"
   ]
  },
  {
   "cell_type": "code",
   "execution_count": null,
   "id": "7ddd7056-0a35-471a-a761-08eee6a853ce",
   "metadata": {},
   "outputs": [],
   "source": []
  },
  {
   "cell_type": "code",
   "execution_count": 37,
   "id": "2e41d496-26ed-4fa0-900e-c77b246474a4",
   "metadata": {},
   "outputs": [],
   "source": [
    "data['sector'] = data['sector'].str.replace('dharam colony','sector 12')\n",
    "data['sector'] = data['sector'].str.replace('krishna colony','sector 7')\n",
    "data['sector'] = data['sector'].str.replace('suncity','sector 54')\n",
    "data['sector'] = data['sector'].str.replace('prem nagar','sector 13')\n",
    "data['sector'] = data['sector'].str.replace('mg road','sector 28')\n",
    "data['sector'] = data['sector'].str.replace('gandhi nagar','sector 28')\n",
    "data['sector'] = data['sector'].str.replace('laxmi garden','sector 11')\n",
    "data['sector'] = data['sector'].str.replace('shakti nagar','sector 11')\n"
   ]
  },
  {
   "cell_type": "code",
   "execution_count": 38,
   "id": "b743e169-6bbf-4446-91bc-d33c5eb5bcd4",
   "metadata": {},
   "outputs": [],
   "source": [
    "data['sector'] = data['sector'].str.replace('baldev nagar','sector 7')\n",
    "data['sector'] = data['sector'].str.replace('shivpuri','sector 7')\n",
    "data['sector'] = data['sector'].str.replace('garhi harsaru','sector 17')\n",
    "data['sector'] = data['sector'].str.replace('imt manesar','manesar')\n",
    "data['sector'] = data['sector'].str.replace('adarsh nagar','sector 12')\n",
    "data['sector'] = data['sector'].str.replace('shivaji nagar','sector 11')\n",
    "data['sector'] = data['sector'].str.replace('bhim nagar','sector 6')\n",
    "data['sector'] = data['sector'].str.replace('madanpuri','sector 7')"
   ]
  },
  {
   "cell_type": "code",
   "execution_count": 39,
   "id": "999f18a7-f913-4a2e-877f-356f277dc770",
   "metadata": {},
   "outputs": [],
   "source": [
    "data['sector'] = data['sector'].str.replace('saraswati vihar','sector 28')\n",
    "data['sector'] = data['sector'].str.replace('arjun nagar','sector 8')\n",
    "data['sector'] = data['sector'].str.replace('ravi nagar','sector 9')\n",
    "data['sector'] = data['sector'].str.replace('vishnu garden','sector 105')\n",
    "data['sector'] = data['sector'].str.replace('bhondsi','sector 11')\n",
    "data['sector'] = data['sector'].str.replace('surya vihar','sector 21')\n",
    "data['sector'] = data['sector'].str.replace('devilal colony','sector 9')\n",
    "data['sector'] = data['sector'].str.replace('valley view estate','gwal pahari')"
   ]
  },
  {
   "cell_type": "code",
   "execution_count": 40,
   "id": "00f91309-4be0-454f-bd61-421a0ac2d72c",
   "metadata": {},
   "outputs": [],
   "source": [
    "data['sector'] = data['sector'].str.replace('mehrauli  road','sector 14')\n",
    "data['sector'] = data['sector'].str.replace('jyoti park','sector 7')\n",
    "data['sector'] = data['sector'].str.replace('ansal plaza','sector 23')\n",
    "data['sector'] = data['sector'].str.replace('dayanand colony','sector 6')\n",
    "data['sector'] = data['sector'].str.replace('sushant lok phase 2','sector 55')\n",
    "data['sector'] = data['sector'].str.replace('chakkarpur','sector 28')\n",
    "data['sector'] = data['sector'].str.replace('greenwood city','sector 45')\n",
    "data['sector'] = data['sector'].str.replace('subhash nagar','sector 12')"
   ]
  },
  {
   "cell_type": "code",
   "execution_count": 41,
   "id": "fb76e373-e766-46d3-b677-0df05e961b50",
   "metadata": {},
   "outputs": [],
   "source": [
    "data['sector'] = data['sector'].str.replace('sohna road road','sohna road')\n",
    "data['sector'] = data['sector'].str.replace('malibu town','sector 47')\n",
    "data['sector'] = data['sector'].str.replace('surat nagar 1','sector 104')\n",
    "data['sector'] = data['sector'].str.replace('new colony','sector 7')\n",
    "data['sector'] = data['sector'].str.replace('mianwali colony','sector 12')\n",
    "data['sector'] = data['sector'].str.replace('jacobpura','sector 12')\n",
    "data['sector'] = data['sector'].str.replace('rajiv nagar','sector 13')\n",
    "data['sector'] = data['sector'].str.replace('ashok vihar','sector 3')"
   ]
  },
  {
   "cell_type": "code",
   "execution_count": 42,
   "id": "749559e1-32af-4d77-84ab-fc068ca5c013",
   "metadata": {},
   "outputs": [],
   "source": [
    "data['sector'] = data['sector'].str.replace('dlf phase 1','sector 26')\n",
    "data['sector'] = data['sector'].str.replace('nirvana country','sector 50')\n",
    "data['sector'] = data['sector'].str.replace('palam vihar','sector 2')\n",
    "data['sector'] = data['sector'].str.replace('dlf phase 2','sector 25')\n",
    "data['sector'] = data['sector'].str.replace('sushant lok phase 1','sector 43')\n",
    "data['sector'] = data['sector'].str.replace('laxman vihar','sector 4')\n",
    "data['sector'] = data['sector'].str.replace('dlf phase 4','sector 28')\n",
    "data['sector'] = data['sector'].str.replace('dlf phase 3','sector 24')"
   ]
  },
  {
   "cell_type": "code",
   "execution_count": 43,
   "id": "fe6d4044-fec1-43ff-a62b-6d9d0e2a3bf1",
   "metadata": {},
   "outputs": [],
   "source": [
    "data['sector'] = data['sector'].str.replace('sushant lok phase 3','sector 57')\n",
    "data['sector'] = data['sector'].str.replace('dlf phase 5','sector 43')\n",
    "data['sector'] = data['sector'].str.replace('rajendra park','sector 105')\n",
    "data['sector'] = data['sector'].str.replace('uppals southend','sector 49')\n",
    "data['sector'] = data['sector'].str.replace('sohna','sohna road')\n",
    "data['sector'] = data['sector'].str.replace('ashok vihar phase 3 extension','sector 5')\n",
    "data['sector'] = data['sector'].str.replace('south city 1','sector 41')\n",
    "data['sector'] = data['sector'].str.replace('ashok vihar phase 2','sector 5')"
   ]
  },
  {
   "cell_type": "code",
   "execution_count": 50,
   "id": "5e21643c-d466-47dc-8610-267c1a4a4799",
   "metadata": {
    "tags": []
   },
   "outputs": [],
   "source": [
    "a = data[\"sector\"].value_counts()[data[\"sector\"].value_counts() >=3]\n",
    "data = data[data[\"sector\"].isin(a.index)]"
   ]
  },
  {
   "cell_type": "code",
   "execution_count": 55,
   "id": "4c72b9fb-695a-4697-95d2-67d1b5e515cf",
   "metadata": {},
   "outputs": [],
   "source": [
    "data['sector'] = data['sector'].str.replace('sector 95a','sector 95')\n",
    "data['sector'] = data['sector'].str.replace('sector 23a','sector 23')\n",
    "data['sector'] = data['sector'].str.replace('sector 12a','sector 12')\n",
    "data['sector'] = data['sector'].str.replace('sector 3a','sector 3')\n",
    "data['sector'] = data['sector'].str.replace('sector 110 a','sector 110')\n",
    "data['sector'] = data['sector'].str.replace('patel nagar','sector 15')\n",
    "data['sector'] = data['sector'].str.replace('a block sector 43','sector 43')\n",
    "data['sector'] = data['sector'].str.replace('maruti kunj','sector 12')\n",
    "data['sector'] = data['sector'].str.replace('b block sector 43','sector 43')"
   ]
  },
  {
   "cell_type": "code",
   "execution_count": 56,
   "id": "fa9bce41-467e-4eba-9b73-b8a7f0312104",
   "metadata": {},
   "outputs": [],
   "source": [
    "data['sector'] = data['sector'].str.replace('sector-33 sohna road','sector 33')\n",
    "data['sector'] = data['sector'].str.replace('sector 1 manesar','manesar')\n",
    "data['sector'] = data['sector'].str.replace('sector 4 phase 2','sector 4')\n",
    "data['sector'] = data['sector'].str.replace('sector 1a manesar','manesar')\n",
    "data['sector'] = data['sector'].str.replace('c block sector 43','sector 43')\n",
    "data['sector'] = data['sector'].str.replace('sector 89 a','sector 89')\n",
    "data['sector'] = data['sector'].str.replace('sector 2 extension','sector 2')\n",
    "data['sector'] = data['sector'].str.replace('sector 36 sohna road','sector 36')"
   ]
  },
  {
   "cell_type": "code",
   "execution_count": null,
   "id": "e58447e3-822b-4f88-9c0a-0253c0793a9e",
   "metadata": {},
   "outputs": [],
   "source": []
  },
  {
   "cell_type": "code",
   "execution_count": 65,
   "id": "07e9e113-840b-4b06-a036-0a764fca6901",
   "metadata": {},
   "outputs": [
    {
     "data": {
      "text/plain": [
       "0"
      ]
     },
     "execution_count": 65,
     "metadata": {},
     "output_type": "execute_result"
    }
   ],
   "source": [
    "data.duplicated().sum()"
   ]
  },
  {
   "cell_type": "code",
   "execution_count": 66,
   "id": "c37f84b3-8d57-469b-9e8d-bf4001187120",
   "metadata": {},
   "outputs": [],
   "source": [
    "data.drop(columns=[\"property_name\", \"description\", \"address\", \"rating\"], inplace=True)"
   ]
  },
  {
   "cell_type": "code",
   "execution_count": 67,
   "id": "1dd0ee71-d95a-4651-9784-f8ad2dc13a43",
   "metadata": {},
   "outputs": [
    {
     "data": {
      "text/plain": [
       "(2996, 17)"
      ]
     },
     "execution_count": 67,
     "metadata": {},
     "output_type": "execute_result"
    }
   ],
   "source": [
    "data.shape"
   ]
  },
  {
   "cell_type": "code",
   "execution_count": null,
   "id": "ec4bb2e9-2118-440b-852c-e1cfd3b00a46",
   "metadata": {},
   "outputs": [],
   "source": []
  },
  {
   "cell_type": "markdown",
   "id": "5ab7e6ac-d84a-4d7f-abd4-7f9d62b933e7",
   "metadata": {},
   "source": [
    "### Exporting data to csv"
   ]
  },
  {
   "cell_type": "code",
   "execution_count": 68,
   "id": "417e8bae-19f5-429b-9d00-054c059ee5bf",
   "metadata": {},
   "outputs": [],
   "source": [
    "data.to_csv(\"gurgaon_properties.csv\")"
   ]
  },
  {
   "cell_type": "code",
   "execution_count": null,
   "id": "bf505aed-2e06-4cb1-bf87-16233631b108",
   "metadata": {},
   "outputs": [],
   "source": []
  },
  {
   "cell_type": "code",
   "execution_count": null,
   "id": "b322cc4d-2f2f-4d66-8fb9-0514de386e2e",
   "metadata": {},
   "outputs": [],
   "source": []
  },
  {
   "cell_type": "code",
   "execution_count": null,
   "id": "92065358-4874-407b-8038-c854dc6f08f8",
   "metadata": {},
   "outputs": [],
   "source": []
  }
 ],
 "metadata": {
  "kernelspec": {
   "display_name": "Python 3 (ipykernel)",
   "language": "python",
   "name": "python3"
  },
  "language_info": {
   "codemirror_mode": {
    "name": "ipython",
    "version": 3
   },
   "file_extension": ".py",
   "mimetype": "text/x-python",
   "name": "python",
   "nbconvert_exporter": "python",
   "pygments_lexer": "ipython3",
   "version": "3.9.13"
  }
 },
 "nbformat": 4,
 "nbformat_minor": 5
}
