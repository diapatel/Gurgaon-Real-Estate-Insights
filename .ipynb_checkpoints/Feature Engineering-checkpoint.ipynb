{
 "cells": [
  {
   "cell_type": "code",
   "execution_count": null,
   "id": "d324d02d-5216-4422-971e-3f34ffdcdd53",
   "metadata": {},
   "outputs": [],
   "source": [
    "import pandas as pd\n",
    "import numpy as np\n",
    "pd.set_option(\"display.max_colwidth\", None)\n",
    "\n",
    "import warnings\n",
    "warnings.filterwarnings(\"ignore\")"
   ]
  },
  {
   "cell_type": "code",
   "execution_count": null,
   "id": "114e74bd-f666-4f50-8c2c-dd20d05c1ced",
   "metadata": {},
   "outputs": [],
   "source": [
    "data = pd.read_csv(\"./gurgaon_properties.csv\").drop(columns=\"Unnamed: 0\")\n",
    "data.head()"
   ]
  },
  {
   "cell_type": "code",
   "execution_count": null,
   "id": "5d557fb9-6f8f-4480-8c93-7e624ffbde8b",
   "metadata": {},
   "outputs": [],
   "source": []
  },
  {
   "cell_type": "markdown",
   "id": "5f7bfef3-1229-4580-8ad3-b63fecce3c2d",
   "metadata": {},
   "source": [
    "## areaWithType"
   ]
  },
  {
   "cell_type": "code",
   "execution_count": null,
   "id": "3ca0f10c-f001-4042-a414-79a9d9e091d1",
   "metadata": {},
   "outputs": [],
   "source": [
    "data[\"areaWithType\"]"
   ]
  },
  {
   "cell_type": "code",
   "execution_count": null,
   "id": "10c7490a-4e85-4942-bfab-2e631b723fe0",
   "metadata": {},
   "outputs": [],
   "source": [
    "import re\n",
    "pattern = r\"Super Built up area (\\d+)\"\n",
    "text = \"Super Built up area 3905(362.79 sq.m.)Built Up area: 3305 sq.ft. (307.04 sq.m.)\"\n",
    "re.findall(pattern, text)"
   ]
  },
  {
   "cell_type": "code",
   "execution_count": null,
   "id": "6681894d-eed3-4a36-9c1d-1eeb3da2d26e",
   "metadata": {},
   "outputs": [],
   "source": [
    "def get_super_builtup_area(value):\n",
    "    if pd.isna(value):\n",
    "        return np.nan\n",
    "    else:\n",
    "        pattern = re.compile(r\"Super Built up area (\\d+)\")\n",
    "        match = pattern.search(value)\n",
    "        if match:\n",
    "            return float(match.group(1))\n",
    "        else:\n",
    "            return np.nan"
   ]
  },
  {
   "cell_type": "code",
   "execution_count": null,
   "id": "5b9e3b1f-5ae4-4a6b-b610-5e8d12babb7f",
   "metadata": {},
   "outputs": [],
   "source": [
    "# This function checks if the area is provided in sq.m. and converts it to sqft if needed\n",
    "def convert_to_sqft(text, area_value):\n",
    "    if area_value is None:\n",
    "        return None\n",
    "    match = re.search(r'{} \\((\\d+\\.?\\d*) sq.m.\\)'.format(area_value), text)\n",
    "    if match:\n",
    "        sq_m_value = float(match.group(1))\n",
    "        return sq_m_value * 10.7639  # conversion factor from sq.m. to sqft\n",
    "    return area_value"
   ]
  },
  {
   "cell_type": "code",
   "execution_count": null,
   "id": "d18c9b63-b4e2-4a06-bce8-d8105574db45",
   "metadata": {},
   "outputs": [],
   "source": [
    "data[\"super_builtup_area\"] = data[\"areaWithType\"].apply(get_super_builtup_area)\n",
    "data[\"super_builtup_area\"] = data.apply(lambda x: convert_to_sqft(x[\"areaWithType\"], x[\"super_builtup_area\"]), axis=1)"
   ]
  },
  {
   "cell_type": "code",
   "execution_count": null,
   "id": "fca89408-92b7-43bb-a556-6059e3f809fd",
   "metadata": {},
   "outputs": [],
   "source": [
    "pattern = r\"Carpet area\\s*:\\s* (\\d+\\.?\\d*)\"\n",
    "text = \"Carpet area: 3556 (330.36 sq.m.)\"\n",
    "re.findall(pattern, text)"
   ]
  },
  {
   "cell_type": "code",
   "execution_count": null,
   "id": "58556013-fd6d-4a5c-86ce-08d34005b8e6",
   "metadata": {},
   "outputs": [],
   "source": [
    "# this function extracts built up area or carpet area\n",
    "def get_area(value, area_type):\n",
    "    if pd.isna(value):\n",
    "        return np.nan\n",
    "    else:\n",
    "        pattern = re.compile(area_type + r\"\\s*:\\s*(\\d+\\.?\\d*)\")\n",
    "        match = pattern.search(value)\n",
    "        if match:\n",
    "            return match.group(1)\n",
    "        else:\n",
    "            return np.nan"
   ]
  },
  {
   "cell_type": "code",
   "execution_count": null,
   "id": "8cfab746-6474-4589-9b1b-86a70a56d1b6",
   "metadata": {},
   "outputs": [],
   "source": [
    "data[\"builtup_area\"] = data[\"areaWithType\"].apply(lambda x: get_area(x, \"Built Up area\"))\n",
    "data[\"builtup_area\"] = data.apply(lambda x: convert_to_sqft(x[\"areaWithType\"], x[\"builtup_area\"]), axis=1)"
   ]
  },
  {
   "cell_type": "code",
   "execution_count": null,
   "id": "a38934e3-fca9-4bc6-a6fb-96ef3a3e5d48",
   "metadata": {},
   "outputs": [],
   "source": [
    "data[\"carpet_area\"] = data[\"areaWithType\"].apply(lambda x: get_area(x, \"Carpet area\"))\n",
    "data[\"carpet_area\"] = data.apply(lambda x: convert_to_sqft(x[\"areaWithType\"], x[\"carpet_area\"]), axis=1)"
   ]
  },
  {
   "cell_type": "code",
   "execution_count": null,
   "id": "45e4f946-c3ca-4d2b-9cce-97464d1bfe9f",
   "metadata": {},
   "outputs": [],
   "source": [
    "def extract_plot_area(value):\n",
    "    if pd.isna(value):\n",
    "        return np.nan\n",
    "    pattern = re.compile(\"Plot area\\s*(\\d+\\.?\\d*)\")\n",
    "    match = pattern.search(value)\n",
    "    if match:\n",
    "        return float(match.group(1))\n",
    "    else:\n",
    "        return np.nan"
   ]
  },
  {
   "cell_type": "code",
   "execution_count": null,
   "id": "9abaebe9-3622-450f-86b0-183d2d81ae58",
   "metadata": {},
   "outputs": [],
   "source": [
    "data[\"plot_area\"] = data[\"areaWithType\"].apply(extract_plot_area)"
   ]
  },
  {
   "cell_type": "code",
   "execution_count": null,
   "id": "dd4f3f37-8738-4a79-bf53-ab595c29cc1f",
   "metadata": {},
   "outputs": [],
   "source": [
    "data[[\"areaWithType\", \"plot_area\"]].sample(7)"
   ]
  },
  {
   "cell_type": "markdown",
   "id": "b243076e-6636-42eb-a6bc-a2caa38cf98e",
   "metadata": {},
   "source": [
    "#### PROBLEM\n",
    "Some values of built up area are in square feet, some are in square yards and some are in square feet. Converting them all to square feet"
   ]
  },
  {
   "cell_type": "code",
   "execution_count": null,
   "id": "c69711c1-a5c8-4c10-9f46-b9cd4f55ff1a",
   "metadata": {},
   "outputs": [],
   "source": [
    "data[\"builtup_area\"] = pd.to_numeric(data[\"builtup_area\"])"
   ]
  },
  {
   "cell_type": "code",
   "execution_count": null,
   "id": "2462ecd7-5762-43c1-9623-63bbc00dfad3",
   "metadata": {},
   "outputs": [],
   "source": [
    "def fill_builtup_area(row):\n",
    "    if not pd.isna(row['plot_area']):\n",
    "        return row['plot_area']\n",
    "    else:\n",
    "        return row['builtup_area']\n",
    "    \n",
    "data[\"builtup_area\"] = data.apply(fill_builtup_area, axis=1)"
   ]
  },
  {
   "cell_type": "code",
   "execution_count": null,
   "id": "10797b87-5c72-478e-947e-2f7f91271fde",
   "metadata": {},
   "outputs": [],
   "source": [
    "def convert_scale(row):\n",
    "    if pd.isna(row[\"area\"]) or pd.isna(row[\"builtup_area\"]):\n",
    "        return row[\"builtup_area\"]\n",
    "    else:\n",
    "        if round(row[\"area\"] / row[\"builtup_area\"]) == 9.0:\n",
    "            return row[\"builtup_area\"] * 9\n",
    "        elif round(row[\"area\"] / row[\"builtup_area\"]) == 11.0:\n",
    "            return row[\"builtup_area\"] * 10.7\n",
    "        else:\n",
    "            return row[\"builtup_area\"]"
   ]
  },
  {
   "cell_type": "code",
   "execution_count": null,
   "id": "17592027-473d-4ebb-83d4-a08d7de9f006",
   "metadata": {},
   "outputs": [],
   "source": [
    "data[\"builtup_area\"] = data.apply(convert_scale, axis=1)"
   ]
  },
  {
   "cell_type": "code",
   "execution_count": null,
   "id": "2e0646a8-e39c-477d-8331-d4ef68aed62b",
   "metadata": {},
   "outputs": [],
   "source": []
  },
  {
   "cell_type": "code",
   "execution_count": null,
   "id": "bfb0555b-fdaf-46ff-87da-90a1db511ef7",
   "metadata": {},
   "outputs": [],
   "source": []
  },
  {
   "cell_type": "markdown",
   "id": "0b04c8e2-c579-4cd3-a124-0124f466cb43",
   "metadata": {},
   "source": [
    "## additionalRoom"
   ]
  },
  {
   "cell_type": "code",
   "execution_count": null,
   "id": "8264bc18-fc94-4788-95ed-f6b2677496f0",
   "metadata": {},
   "outputs": [],
   "source": [
    "room_types = [\"Study Room\", \"Servant Room\", \"Pooja Room\", \"Others\", \"Store Room\"]\n",
    "\n",
    "for room in room_types:\n",
    "    data[room] = data[\"additionalRoom\"].fillna(\"Missing\").apply(lambda x: 1 if room in x else 0)"
   ]
  },
  {
   "cell_type": "code",
   "execution_count": null,
   "id": "3f4370d3-fe88-403f-afab-5c96ad468b6e",
   "metadata": {},
   "outputs": [],
   "source": [
    "nan_index = data[data[\"additionalRoom\"].isna()].index\n",
    "data.loc[nan_index, \"Study Room\" : \"Store Room\"] = np.nan"
   ]
  },
  {
   "cell_type": "code",
   "execution_count": null,
   "id": "6fe64961-72d6-4653-b0d3-70a92f406923",
   "metadata": {},
   "outputs": [],
   "source": [
    "data[[\"additionalRoom\", \"Study Room\", \"Servant Room\", \"Pooja Room\", \"Others\", \"Store Room\"]].sample(7)"
   ]
  },
  {
   "cell_type": "code",
   "execution_count": null,
   "id": "33478089-81d5-457c-8898-f79ea1a8cc63",
   "metadata": {},
   "outputs": [],
   "source": []
  },
  {
   "cell_type": "markdown",
   "id": "f07ceb5a-5ca9-4750-9bdc-529654ae5196",
   "metadata": {},
   "source": [
    "## Extract sector from address"
   ]
  },
  {
   "cell_type": "code",
   "execution_count": null,
   "id": "23e4bb74-6616-4cd6-afe0-a57904b0eeb4",
   "metadata": {},
   "outputs": [],
   "source": [
    "import re\n",
    "\n",
    "pattern = r\"(Sector[^\\d*]\\d+\\w*)\"\n",
    "text = \"Sector 61 Gurgaon, Gurgaon, Haryana\"\n",
    "re.findall(pattern, text)"
   ]
  },
  {
   "cell_type": "code",
   "execution_count": null,
   "id": "3b87e740-f888-46cc-9243-71baf09f4381",
   "metadata": {},
   "outputs": [],
   "source": [
    "flats[\"sector\"] = flats[\"address\"].str.extract(pattern)\n",
    "flats[[\"address\", \"sector\"]].sample(7)"
   ]
  },
  {
   "cell_type": "code",
   "execution_count": null,
   "id": "23929e42-ea69-417e-9000-404528d4cbe5",
   "metadata": {},
   "outputs": [],
   "source": []
  },
  {
   "cell_type": "markdown",
   "id": "eeb91d58-31ef-49b0-b4df-70d5b4fa0437",
   "metadata": {},
   "source": [
    "## Categories of agePossession\n",
    "0-1 year old / within  3 months / within 6 months / under construction : new<Br>\n",
    "1-5 year old : relatively new<Br>\n",
    "5-10 year old: moderately old<Br>\n",
    "10+ year old:  old<Br>\n",
    "any other value where possession is handed in a future year : New<Br>"
   ]
  },
  {
   "cell_type": "code",
   "execution_count": null,
   "id": "ac3fa499-d22c-4bd1-bd31-949e16d38692",
   "metadata": {
    "tags": []
   },
   "outputs": [],
   "source": [
    "data[\"agePossession\"].value_counts()"
   ]
  },
  {
   "cell_type": "code",
   "execution_count": null,
   "id": "d585e6b3-6920-4914-b84c-d527fa5c204d",
   "metadata": {},
   "outputs": [],
   "source": [
    "def fix_age_possession(value):\n",
    "    if pd.isna(value) or value == \"undefined\":\n",
    "        return np.nan\n",
    "    elif value == \"0 to 1 Year Old\" or value == \"Within 6 months\" or value == \"Within 3 months\" or value == \"Under Construction\":\n",
    "        return \"new\"\n",
    "    elif value == \"1 to 5 Year Old\":\n",
    "        return \"relatively new\"\n",
    "    elif value == \"5 to 10 Year Old\":\n",
    "        return \"moderately old\"\n",
    "    elif value == \"10+ Year Old\":\n",
    "        return \"old\"\n",
    "    elif \"-\" in value or \"By\" in value or value.split(\" \")[-1].isnumeric():\n",
    "        return \"new\""
   ]
  },
  {
   "cell_type": "code",
   "execution_count": null,
   "id": "cd6d78c0-d8c3-4a23-96fe-d5e88c37df6f",
   "metadata": {},
   "outputs": [],
   "source": [
    "data[\"possession_category\"] = data[\"agePossession\"].apply(fix_age_possession)"
   ]
  },
  {
   "cell_type": "code",
   "execution_count": null,
   "id": "14295b06-0625-4d6b-bf9a-14fc9c7be8da",
   "metadata": {},
   "outputs": [],
   "source": [
    "data[[\"agePossession\", \"possession_category\"]].sample(7)"
   ]
  },
  {
   "cell_type": "code",
   "execution_count": null,
   "id": "f626cb52-d6c0-4a2f-9ff9-b5292ab7ec77",
   "metadata": {},
   "outputs": [],
   "source": [
    "data[\"possession_category\"].unique()"
   ]
  },
  {
   "cell_type": "code",
   "execution_count": null,
   "id": "075e5c55-d557-4047-8a58-ad3082e3d3f3",
   "metadata": {},
   "outputs": [],
   "source": []
  },
  {
   "cell_type": "markdown",
   "id": "1a1d77b9-e8ad-4602-8faa-de38766f9978",
   "metadata": {},
   "source": [
    "## furnishDetails"
   ]
  },
  {
   "cell_type": "code",
   "execution_count": null,
   "id": "42588361-5a14-462c-97e2-f43e588661cf",
   "metadata": {},
   "outputs": [],
   "source": [
    "data[\"furnishDetails\"].value_counts()"
   ]
  },
  {
   "cell_type": "code",
   "execution_count": null,
   "id": "23f14d00-d44f-4c70-be61-0cdbdf3add5b",
   "metadata": {
    "tags": []
   },
   "outputs": [],
   "source": [
    "all_furnishings= []\n",
    "\n",
    "for detail in data[\"furnishDetails\"].unique():\n",
    "    if not pd.isna(detail):\n",
    "        all_furnishings.extend(detail.replace(\"[\",\"\").replace(\"]\",\"\").replace(\"'\",\"\").split(\",\"))\n",
    "\n",
    "furnishing_set = set()\n",
    "for i in all_furnishings:\n",
    "    i = i.strip()\n",
    "    pattern = r\"(\\S+) (\\w+\\s?\\w*)\"\n",
    "    feature = re.findall(pattern, i)\n",
    "    if feature:\n",
    "        furnishing_set.add(feature[0][-1])\n",
    "        \n",
    "print(len(furnishing_set))"
   ]
  },
  {
   "cell_type": "code",
   "execution_count": null,
   "id": "f60d581b-d7b7-45d5-bf7b-aa367d7255a3",
   "metadata": {},
   "outputs": [],
   "source": []
  },
  {
   "cell_type": "code",
   "execution_count": null,
   "id": "f8b59d4e-9939-4970-90d3-2dc70b031b57",
   "metadata": {},
   "outputs": [],
   "source": [
    "data.shape"
   ]
  },
  {
   "cell_type": "code",
   "execution_count": null,
   "id": "61ee9c02-8c49-4c36-9d49-e235c37f1015",
   "metadata": {},
   "outputs": [],
   "source": [
    "def get_furnishing_count(details, furnishing):\n",
    "    if isinstance(furnishing, str) and not pd.isna(details):\n",
    "        if f\"No {furnishing}\" in details:\n",
    "            return 0\n",
    "        pattern = re.compile(f\"(\\d+) {furnishing}\")\n",
    "        match = pattern.search(details)\n",
    "        if match:\n",
    "            return int(match.group(1))\n",
    "        elif furnishing in details:\n",
    "            return 1\n",
    "    return 0\n",
    "\n",
    "furnishing_list = list(furnishing_set)"
   ]
  },
  {
   "cell_type": "code",
   "execution_count": null,
   "id": "7b0725aa-ab83-40d5-815a-90c6fd0f43ab",
   "metadata": {},
   "outputs": [],
   "source": [
    "for furnishing in furnishing_list:\n",
    "    data[furnishing] = data[\"furnishDetails\"].apply(lambda x: get_furnishing_count(x, furnishing))"
   ]
  },
  {
   "cell_type": "code",
   "execution_count": null,
   "id": "802d9e51-1143-4520-969b-2f6529765153",
   "metadata": {},
   "outputs": [],
   "source": [
    "furnishing_df = data[[\"furnishDetails\"] + furnishing_list]"
   ]
  },
  {
   "cell_type": "code",
   "execution_count": null,
   "id": "d19a03da-0a2d-4c44-9754-b040103ac3cd",
   "metadata": {},
   "outputs": [],
   "source": []
  },
  {
   "cell_type": "markdown",
   "id": "1a88eb2f-6695-47fc-940f-f2eb6474e7e7",
   "metadata": {},
   "source": [
    "#### Applying KMeans to furnishing_df"
   ]
  },
  {
   "cell_type": "code",
   "execution_count": null,
   "id": "28f72549-7dc7-4d6a-9ee9-82f2d92f4594",
   "metadata": {},
   "outputs": [],
   "source": [
    "from sklearn.preprocessing import StandardScaler\n",
    "from sklearn.cluster import KMeans\n",
    "\n",
    "furnishing_df2 = furnishing_df.drop(columns=\"furnishDetails\")"
   ]
  },
  {
   "cell_type": "code",
   "execution_count": null,
   "id": "4ec24008-ec58-48a2-82ac-b5819c1e2125",
   "metadata": {},
   "outputs": [],
   "source": [
    "scaler = StandardScaler()\n",
    "scaled_data = scaler.fit_transform(furnishing_df2)"
   ]
  },
  {
   "cell_type": "code",
   "execution_count": null,
   "id": "1c4e31fa-a330-4bf2-a722-626b76ac9afa",
   "metadata": {},
   "outputs": [],
   "source": [
    "inertia = []\n",
    "\n",
    "for i in range(1,10):\n",
    "    kmeans = KMeans(n_clusters=i, init=\"k-means++\")\n",
    "    kmeans.fit(scaled_data)\n",
    "    inertia.append(kmeans.inertia_)"
   ]
  },
  {
   "cell_type": "code",
   "execution_count": null,
   "id": "1cbbaef0-cfd5-45f4-bf68-8e3ea529c233",
   "metadata": {},
   "outputs": [],
   "source": [
    "import matplotlib.pyplot as plt\n",
    "plt.plot(range(1,10), inertia, marker=\"o\")\n",
    "plt.title(\"Number of clusters vs. Inertia\")\n",
    "plt.xlabel(\"num_clusters\")\n",
    "plt.ylabel(\"Inertia\")\n",
    "plt.grid()\n",
    "plt.show()"
   ]
  },
  {
   "cell_type": "code",
   "execution_count": null,
   "id": "a6d14030-5c4e-4000-921f-a4c3419c1c0d",
   "metadata": {},
   "outputs": [],
   "source": [
    "kmeans = KMeans(n_clusters=3, init=\"k-means++\")\n",
    "kmeans.fit(scaled_data)\n",
    "cluster_labels = kmeans.predict(scaled_data)\n",
    "data[\"furnishingType\"] = cluster_labels"
   ]
  },
  {
   "cell_type": "code",
   "execution_count": null,
   "id": "06fbe56a-9a2b-418e-9c1f-65e8e1f6149a",
   "metadata": {},
   "outputs": [],
   "source": [
    "data[[\"furnishDetails\", \"furnishingType\"]].sample(7)"
   ]
  },
  {
   "cell_type": "code",
   "execution_count": null,
   "id": "04e36eb7-56dd-41e3-b4a1-c487299b0f9e",
   "metadata": {},
   "outputs": [],
   "source": []
  },
  {
   "cell_type": "markdown",
   "id": "55f09d31-9b64-4b70-9eb4-365f0888b3eb",
   "metadata": {},
   "source": [
    "## Features"
   ]
  },
  {
   "cell_type": "code",
   "execution_count": null,
   "id": "c3f06e33-714e-422e-add2-4e840c3324b4",
   "metadata": {},
   "outputs": [],
   "source": [
    "import ast\n",
    "from sklearn.preprocessing import MultiLabelBinarizer"
   ]
  },
  {
   "cell_type": "code",
   "execution_count": null,
   "id": "0e71af38-3b43-4f38-87ed-cf58a5fa77a1",
   "metadata": {},
   "outputs": [],
   "source": [
    "# converting each row of features from representation of lists to actual lists\n",
    "data[\"features_list\"] = data[\"features\"].apply(lambda x: ast.literal_eval(x) if pd.notnull(x) and x.startswith(\"[\") else [])"
   ]
  },
  {
   "cell_type": "code",
   "execution_count": null,
   "id": "0194c7e0-e98e-47f4-9fe8-10048f38f89a",
   "metadata": {},
   "outputs": [],
   "source": [
    "# use MultiLabelBinarizer to convert features list into a binary matrix\n",
    "mlb = MultiLabelBinarizer()\n",
    "binary_matrix = mlb.fit_transform(data[\"features_list\"])\n",
    "\n",
    "features_df = pd.DataFrame(binary_matrix, columns=mlb.classes_)\n",
    "features_df"
   ]
  },
  {
   "cell_type": "code",
   "execution_count": null,
   "id": "02d9e399-f3b5-472c-8d62-c19cf0d38556",
   "metadata": {},
   "outputs": [],
   "source": [
    "# Define the weights for each feature as provided\n",
    "# Assigning weights based on perceived luxury contribution\n",
    "weights = {\n",
    "    '24/7 Power Backup': 8,\n",
    "    '24/7 Water Supply': 4,\n",
    "    '24x7 Security': 7,\n",
    "    'ATM': 4,\n",
    "    'Aerobics Centre': 6,\n",
    "    'Airy Rooms': 8,\n",
    "    'Amphitheatre': 7,\n",
    "    'Badminton Court': 7,\n",
    "    'Banquet Hall': 8,\n",
    "    'Bank Attached Property' : 7,\n",
    "    'Bar/Chill-Out Lounge': 9,\n",
    "    'Barbecue': 7,\n",
    "    'Basketball Court': 7,\n",
    "    'Billiards': 7,\n",
    "    'Bowling Alley': 8,\n",
    "    'Business Lounge': 9,\n",
    "    'CCTV Camera Security': 8,\n",
    "    'Cafeteria': 6,\n",
    "    'Car Parking': 6,\n",
    "    'Card Room': 6,\n",
    "    'Centrally Air Conditioned': 9,\n",
    "    'Changing Area': 6,\n",
    "    \"Children's Play Area\": 7,\n",
    "    'Cigar Lounge': 9,\n",
    "    'Clinic': 5,\n",
    "    'Club House': 9,\n",
    "    'Club house / Community Center': 6,\n",
    "    'Concierge Service': 9,\n",
    "    'Conference room': 8,\n",
    "    'Creche/Day care': 7,\n",
    "    'Cricket Pitch': 7,\n",
    "    'Doctor on Call': 6,\n",
    "    'Earthquake Resistant': 5,\n",
    "    'Entrance Lobby': 7,\n",
    "    'False Ceiling Lighting': 6,\n",
    "    'Feng Shui / Vaastu Compliant': 5,\n",
    "    'Fire Fighting Systems': 8,\n",
    "    'Fitness Centre / GYM': 8,\n",
    "    'Flower Garden': 7,\n",
    "    'Food Court': 6,\n",
    "    'Foosball': 5,\n",
    "    'Football': 7,\n",
    "    'Fountain': 7,\n",
    "    'Gated Community': 7,\n",
    "    'Golf Course': 10,\n",
    "    'Grocery Shop': 6,\n",
    "    'Gymnasium': 8,\n",
    "    'High Ceiling Height': 8,\n",
    "    'High Speed Elevators': 8,\n",
    "    'Infinity Pool': 9,\n",
    "    'Intercom Facility': 7,\n",
    "    'Internal Street Lights': 6,\n",
    "    'Internet/wi-fi connectivity': 7,\n",
    "    'Jacuzzi': 9,\n",
    "    'Jogging Track': 7,\n",
    "    'Landscape Garden': 8,\n",
    "    'Laundry': 6,\n",
    "    'Lawn Tennis Court': 8,\n",
    "    'Library': 8,\n",
    "    'Lounge': 8,\n",
    "    'Low Density Society': 7,\n",
    "    'Maintenance Staff': 6,\n",
    "    'Manicured Garden': 7,\n",
    "    'Medical Centre': 5,\n",
    "    'Milk Booth': 4,\n",
    "    'Mini Theatre': 9,\n",
    "    'Multipurpose Court': 7,\n",
    "    'Multipurpose Hall': 7,\n",
    "    'Natural Light': 8,\n",
    "    'Natural Pond': 7,\n",
    "    'Park': 8,\n",
    "    'Party Lawn': 8,\n",
    "    'Piped Gas': 7,\n",
    "    'Piped-gas' : 7,\n",
    "    'Pool Table': 7,\n",
    "    'Power Back up Lift': 8,\n",
    "    'Private Garden / Terrace': 9,\n",
    "    'Property Staff': 7,\n",
    "    'RO System': 7,\n",
    "    'Rain Water Harvesting': 7,\n",
    "    'Reading Lounge': 8,\n",
    "    'Restaurant': 8,\n",
    "    'Salon': 8,\n",
    "    'Sauna': 9,\n",
    "    'Security / Fire Alarm': 9,\n",
    "    'Security Personnel': 9,\n",
    "    'Separate entry for servant room': 8,\n",
    "    'Sewage Treatment Plant': 6,\n",
    "    'Shopping Centre': 7,\n",
    "    'Skating Rink': 7,\n",
    "    'Solar Lighting': 6,\n",
    "    'Solar Water Heating': 7,\n",
    "    'Spa': 9,\n",
    "    'Spacious Interiors': 9,\n",
    "    'Squash Court': 8,\n",
    "    'Steam Room': 9,\n",
    "    'Sun Deck': 8,\n",
    "    'Swimming Pool': 8,\n",
    "    'Temple': 5,\n",
    "    'Theatre': 9,\n",
    "    'Toddler Pool': 7,\n",
    "    'Valet Parking': 9,\n",
    "    'Video Door Security': 9,\n",
    "    'Visitor Parking': 7,\n",
    "    'Water Softener Plant': 7,\n",
    "    'Water Storage': 7,\n",
    "    'Water purifier': 7,\n",
    "    'Waste Disposal' : 9,\n",
    "    'Yoga/Meditation Area': 7,\n",
    "    'Recently Renovated' : 9,\n",
    "    'No open drainage around' : 9,\n",
    "    'Lift(s)' : 7,\n",
    "    'Water softening plant' : 9,\n",
    "    'Power Back-up' : 8\n",
    "}\n",
    "\n",
    "def get_luxury_score(row):\n",
    "    return sum(weights[feature] for feature, value in row.items() if value==1)\n",
    "\n",
    "features_df['score'] = features_df.apply(get_luxury_score, axis=1)"
   ]
  },
  {
   "cell_type": "code",
   "execution_count": null,
   "id": "3c36b4a1-543a-48f9-a5b7-cea4c42d144d",
   "metadata": {},
   "outputs": [],
   "source": [
    "data[\"luxury_score\"] = features_df.apply(get_luxury_score, axis=1)"
   ]
  },
  {
   "cell_type": "code",
   "execution_count": null,
   "id": "e66f40fb-9911-4783-bbe9-321faef772ec",
   "metadata": {},
   "outputs": [],
   "source": [
    "data.shape"
   ]
  },
  {
   "cell_type": "code",
   "execution_count": null,
   "id": "4d4f1940-fff8-4bbe-8cbd-8514dbfec7d6",
   "metadata": {},
   "outputs": [],
   "source": [
    "data.columns"
   ]
  },
  {
   "cell_type": "code",
   "execution_count": null,
   "id": "0242039f-685a-4bbf-aab4-1e548a63f4f5",
   "metadata": {},
   "outputs": [],
   "source": [
    "data.drop(columns=[\"Fan\", \"Geyser\", \"Microwave\", \"Modular Kitchen\", \"Bed\", \"Wardrobe\", \"Chimney\", \"AC\", \"Stove\", \"Fridge\", \"Washing Machine\",\\\n",
    "                  \"Water Purifier\", \"Sofa\", \"Stove\", \"Dining Table\", \"Curtains\", \"Light\", \"Exhaust Fan\", \"TV\"], inplace=True)"
   ]
  },
  {
   "cell_type": "code",
   "execution_count": null,
   "id": "3232ea6b-6cba-432c-b99b-c56548634de4",
   "metadata": {},
   "outputs": [],
   "source": [
    "data.drop(columns=[\"nearbyLocations\", \"furnishDetails\", \"features\", \"features_list\", \"additionalRoom\"], inplace=True)"
   ]
  },
  {
   "cell_type": "code",
   "execution_count": null,
   "id": "ceeaf68c-d37f-42ba-891c-59193ac6836c",
   "metadata": {},
   "outputs": [],
   "source": [
    "data.drop(columns=[\"agePossession\", \"builtup2\", \"plot_area\"], inplace=True)"
   ]
  },
  {
   "cell_type": "code",
   "execution_count": null,
   "id": "32f31593-1044-414f-81f1-60bd46eb1d07",
   "metadata": {},
   "outputs": [],
   "source": []
  },
  {
   "cell_type": "code",
   "execution_count": null,
   "id": "713ae628-d7b0-4eff-aae3-5c5f85fdc610",
   "metadata": {},
   "outputs": [],
   "source": [
    "data.shape"
   ]
  },
  {
   "cell_type": "code",
   "execution_count": null,
   "id": "894f0669-da0e-452a-a89d-d4cba92b4e78",
   "metadata": {},
   "outputs": [],
   "source": [
    "# exporting as csv\n",
    "data.to_csv(\"gurgaon_properties_cleaned_v1.csv\", index=False)"
   ]
  },
  {
   "cell_type": "code",
   "execution_count": null,
   "id": "e6f25d3d-8691-4a3d-82b6-8bb37d0f4a1a",
   "metadata": {},
   "outputs": [],
   "source": []
  },
  {
   "cell_type": "code",
   "execution_count": null,
   "id": "8aa47782-e7a1-4f4c-a11e-76b24c0768b6",
   "metadata": {},
   "outputs": [],
   "source": []
  },
  {
   "cell_type": "code",
   "execution_count": null,
   "id": "0d42606f-a6c3-457b-b373-0a6e5e201d95",
   "metadata": {},
   "outputs": [],
   "source": []
  },
  {
   "cell_type": "code",
   "execution_count": null,
   "id": "fb59b884-0c6d-4418-a6c4-ad05b8d1f021",
   "metadata": {},
   "outputs": [],
   "source": []
  }
 ],
 "metadata": {
  "kernelspec": {
   "display_name": "Python 3 (ipykernel)",
   "language": "python",
   "name": "python3"
  },
  "language_info": {
   "codemirror_mode": {
    "name": "ipython",
    "version": 3
   },
   "file_extension": ".py",
   "mimetype": "text/x-python",
   "name": "python",
   "nbconvert_exporter": "python",
   "pygments_lexer": "ipython3",
   "version": "3.9.13"
  }
 },
 "nbformat": 4,
 "nbformat_minor": 5
}
