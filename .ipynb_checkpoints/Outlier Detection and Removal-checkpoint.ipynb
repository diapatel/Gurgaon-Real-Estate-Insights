{
 "cells": [
  {
   "cell_type": "code",
   "execution_count": 1,
   "id": "4b905344-6670-4d96-91ed-8325e27cc518",
   "metadata": {},
   "outputs": [],
   "source": [
    "import pandas as pd\n",
    "import numpy as np\n",
    "import matplotlib.pyplot as plt\n",
    "import seaborn as sns\n",
    "\n",
    "import warnings\n",
    "warnings.filterwarnings(\"ignore\")"
   ]
  },
  {
   "cell_type": "code",
   "execution_count": null,
   "id": "a8d804a3-f372-47e5-8a04-3c8f5ce5c413",
   "metadata": {},
   "outputs": [],
   "source": [
    "data = pd.read_csv(\"./gurgaon_properties_cleaned_v1.csv\").drop_duplicates()\n",
    "data.head()"
   ]
  },
  {
   "cell_type": "markdown",
   "id": "c218ea46-8893-4734-9d60-b97c325a27f2",
   "metadata": {},
   "source": [
    "# Price"
   ]
  },
  {
   "cell_type": "code",
   "execution_count": null,
   "id": "8ffd139d-b635-47a8-b974-b4a26a40b90e",
   "metadata": {},
   "outputs": [],
   "source": [
    "data[\"price\"].describe()"
   ]
  },
  {
   "cell_type": "code",
   "execution_count": null,
   "id": "2f1e8be3-2ca2-4abc-b965-eff766c1e12b",
   "metadata": {},
   "outputs": [],
   "source": [
    "sns.distplot(data[\"price\"])\n",
    "plt.show()"
   ]
  },
  {
   "cell_type": "code",
   "execution_count": null,
   "id": "fcac3863-5e18-475c-8706-3b81f4977d7f",
   "metadata": {},
   "outputs": [],
   "source": [
    "# price is not normally distributed so, plotting a boxplot\n",
    "sns.boxplot(data[\"price\"])\n",
    "plt.show()"
   ]
  },
  {
   "cell_type": "code",
   "execution_count": null,
   "id": "776f28e7-1bb6-46a3-9654-f645242aca2c",
   "metadata": {},
   "outputs": [],
   "source": [
    "# using IQR method to detect outliers\n",
    "Q1 = data[\"price\"].quantile(0.25)\n",
    "Q3 = data[\"price\"].quantile(0.75)\n",
    "IQR = Q3 - Q1\n",
    "\n",
    "lower_bound = Q1 - (1.5*IQR)\n",
    "upper_bound = Q3 + (1.5*IQR)\n",
    "\n",
    "filt = (data[\"price\"] < lower_bound) | (data[\"price\"] > upper_bound)\n",
    "price_outlier_df = data[filt]\n",
    "\n",
    "num_outliers = price_outlier_df.shape[0]\n",
    "num_outliers, price_outlier_df[\"price\"].describe()"
   ]
  },
  {
   "cell_type": "markdown",
   "id": "d55de3a0-a9cc-477d-8909-8ab9d121fb4c",
   "metadata": {},
   "source": [
    "- Based on the price column -> there are some genuine outliers, i.e., there are some actual properties that are worth the high price but there are some data errors as well"
   ]
  },
  {
   "cell_type": "code",
   "execution_count": null,
   "id": "586b6352-d172-451f-8f7a-8f71ccc1e57d",
   "metadata": {},
   "outputs": [],
   "source": []
  },
  {
   "cell_type": "markdown",
   "id": "a4ea98ab-d79c-48f5-a148-5c862282ae64",
   "metadata": {},
   "source": [
    "# price per square feet"
   ]
  },
  {
   "cell_type": "code",
   "execution_count": null,
   "id": "e17ea7d4-0737-48d7-9afc-6281cae87b2c",
   "metadata": {},
   "outputs": [],
   "source": [
    "data[\"price_per_sqft\"].describe()"
   ]
  },
  {
   "cell_type": "code",
   "execution_count": null,
   "id": "af03abe5-2901-4c92-bc19-238429b76d89",
   "metadata": {},
   "outputs": [],
   "source": [
    "sns.distplot(data[\"price_per_sqft\"])\n",
    "plt.show()"
   ]
  },
  {
   "cell_type": "code",
   "execution_count": null,
   "id": "cbc73539-0427-41ef-b3e5-714757a8f89f",
   "metadata": {},
   "outputs": [],
   "source": [
    "sns.boxplot(data[\"price_per_sqft\"])\n",
    "plt.title(\"price_per_sqft\")\n",
    "plt.show()"
   ]
  },
  {
   "cell_type": "code",
   "execution_count": null,
   "id": "5e41e9d4-c26f-4aba-8d99-2efc2d62a27f",
   "metadata": {},
   "outputs": [],
   "source": [
    "# using IQR method to detect outliers\n",
    "Q1 = data[\"price_per_sqft\"].quantile(0.25)\n",
    "Q3 = data[\"price_per_sqft\"].quantile(0.75)\n",
    "IQR = Q3 - Q1\n",
    "\n",
    "lower_bound = Q1 - (1.5*IQR)\n",
    "upper_bound = Q3 + (1.5*IQR)\n",
    "\n",
    "filt = (data[\"price_per_sqft\"] < lower_bound) | (data[\"price_per_sqft\"] > upper_bound)\n",
    "pps_outlier_df = data[filt]\n",
    "\n",
    "num_outliers = pps_outlier_df.shape[0]\n",
    "num_outliers, pps_outlier_df[\"price_per_sqft\"].describe()"
   ]
  },
  {
   "cell_type": "code",
   "execution_count": null,
   "id": "46197c4d-3e1d-459e-bd95-5ffbe50ff721",
   "metadata": {
    "tags": []
   },
   "outputs": [],
   "source": [
    "pps_outlier_df.head(10)"
   ]
  },
  {
   "cell_type": "markdown",
   "id": "c7ebbd11-70e1-4d27-a322-5b8961704745",
   "metadata": {},
   "source": [
    "- Turns out that properties where area < 1000, the area is in sq yards and since , price per sqft has been calculated based on area , price per sqft is inaccurate."
   ]
  },
  {
   "cell_type": "code",
   "execution_count": null,
   "id": "27422930-218a-42aa-827a-b5a73b0fea56",
   "metadata": {
    "tags": []
   },
   "outputs": [],
   "source": [
    "pps_outlier_df[pps_outlier_df['area'] < 1000]"
   ]
  },
  {
   "cell_type": "code",
   "execution_count": null,
   "id": "ae66e5ed-9941-4092-a6c9-41e33784aabf",
   "metadata": {},
   "outputs": [],
   "source": [
    "pps_outlier_df[\"area\"] = pps_outlier_df[\"area\"].apply(lambda x: x * 9 if x<1000 else x)\n",
    "pps_outlier_df[\"builtup_area\"] = pps_outlier_df[\"builtup_area\"].apply(lambda x: x * 9 if x<1000 else x)\n",
    "pps_outlier_df[\"carpet_area\"] = pps_outlier_df[\"carpet_area\"].apply(lambda x: x * 9 if x<1000 else x)"
   ]
  },
  {
   "cell_type": "code",
   "execution_count": null,
   "id": "5f5739a6-4765-4a23-bb3f-94245abe2d10",
   "metadata": {},
   "outputs": [],
   "source": [
    "data.update(pps_outlier_df)"
   ]
  },
  {
   "cell_type": "code",
   "execution_count": null,
   "id": "1489187a-7df0-466a-be6f-86b63f29920e",
   "metadata": {},
   "outputs": [],
   "source": [
    "data[\"price_per_sqft\"] = (data[\"price\"] * 10000000) / data[\"area\"]"
   ]
  },
  {
   "cell_type": "code",
   "execution_count": null,
   "id": "d4048640-05a4-4de7-b195-0124c5f7051b",
   "metadata": {},
   "outputs": [],
   "source": [
    "sns.boxplot(data[\"price_per_sqft\"])\n",
    "plt.title(\"price per sqft after converting sq yards to sqft\")\n",
    "plt.show()"
   ]
  },
  {
   "cell_type": "code",
   "execution_count": null,
   "id": "feda1f6f-dfac-4b0d-85c5-20060a9301c6",
   "metadata": {},
   "outputs": [],
   "source": [
    "data[data[\"price_per_sqft\"] > 50000].shape[0]"
   ]
  },
  {
   "cell_type": "markdown",
   "id": "4150f912-6498-448d-a9f4-ef4178d7f9d3",
   "metadata": {},
   "source": [
    "- There are 5 properties where price per sqft is > 50000, so dropping them"
   ]
  },
  {
   "cell_type": "code",
   "execution_count": null,
   "id": "5e02e33d-81bc-4c05-ad72-9b7bdef3752a",
   "metadata": {},
   "outputs": [],
   "source": [
    "data = data[data[\"price_per_sqft\"] <= 50000]"
   ]
  },
  {
   "cell_type": "code",
   "execution_count": null,
   "id": "08f1a45d-ddd9-4574-ad61-473794a4edf1",
   "metadata": {},
   "outputs": [],
   "source": [
    "sns.boxplot(data[\"price_per_sqft\"])\n",
    "plt.title(\"price per sqft after outlier removal\")\n",
    "plt.show()"
   ]
  },
  {
   "cell_type": "code",
   "execution_count": null,
   "id": "01e6454e-5050-4884-8b93-0407b6c627bd",
   "metadata": {},
   "outputs": [],
   "source": []
  },
  {
   "cell_type": "markdown",
   "id": "033df7b7-52e9-42a7-ba92-6528ce5b68fc",
   "metadata": {},
   "source": [
    "# Area "
   ]
  },
  {
   "cell_type": "code",
   "execution_count": null,
   "id": "e884c367-e916-42a5-a99a-1a43ffaa99fd",
   "metadata": {},
   "outputs": [],
   "source": [
    "sns.distplot(data[\"area\"])\n",
    "plt.show()"
   ]
  },
  {
   "cell_type": "code",
   "execution_count": null,
   "id": "0c59a87d-2495-41fa-a452-0c038d8f4d75",
   "metadata": {},
   "outputs": [],
   "source": [
    "data[data[\"area\"] > 100000]"
   ]
  },
  {
   "cell_type": "markdown",
   "id": "f3232267-09e8-4ebe-ab72-b70a5b45979e",
   "metadata": {},
   "source": [
    "- There are properties where area is >100000, but it is not justified by the price which ranges from 31 lakhs to 5 crores.\n",
    "- so, these are data errors, hence dropping them"
   ]
  },
  {
   "cell_type": "code",
   "execution_count": null,
   "id": "6330f82f-9127-4561-8157-d8b2c3804669",
   "metadata": {},
   "outputs": [],
   "source": [
    "data = data[data[\"area\"] < 100000]"
   ]
  },
  {
   "cell_type": "code",
   "execution_count": null,
   "id": "bfbe8083-7fa0-4839-97a5-e91c56c66dc4",
   "metadata": {},
   "outputs": [],
   "source": [
    "# analyzing data where area is >10000\n",
    "\n",
    "data[data[\"area\"] > 10000]"
   ]
  },
  {
   "cell_type": "markdown",
   "id": "d04a8884-45b7-4624-b8d1-87227c75b3b3",
   "metadata": {},
   "source": [
    "- These are rows where the area is > 10000 but the price is in lakhs, which is illogical , so dropping those -> 452, 1559, 1562, 1563, 1564, 2469"
   ]
  },
  {
   "cell_type": "code",
   "execution_count": null,
   "id": "16a3c36f-4887-4190-904d-85d3b3f21666",
   "metadata": {},
   "outputs": [],
   "source": [
    "data.drop(index=[452, 1559, 1562, 1563, 1564, 2469], inplace=True)"
   ]
  },
  {
   "cell_type": "code",
   "execution_count": null,
   "id": "ff7ac622-f3d0-4cf0-9af1-47e7be0bcf83",
   "metadata": {},
   "outputs": [],
   "source": [
    "data[data[\"area\"] > 10000]"
   ]
  },
  {
   "cell_type": "markdown",
   "id": "54370fbb-101e-44bc-97c9-f24b19820bbf",
   "metadata": {},
   "source": [
    "- in row `63`, house with area 22498 sqft is costing just 6.25 crore. but on 99acres, properties with area around 6000 sqft itself cost more than 6 crores. so this is a data error.\n",
    "- in row `1860`, flat in MRM Golfestate has area 11000 sqft and costs 13.20 Cr. but a flat there with area around 5207 sqft costs 5.2 Cr. So, even by extension this seems to be  a data error.\n",
    "- and so is with rows `2555` and `2883`\n",
    "- so , dropping them"
   ]
  },
  {
   "cell_type": "code",
   "execution_count": null,
   "id": "25553919-44ae-4861-9706-d982ba689f69",
   "metadata": {},
   "outputs": [],
   "source": [
    "data.drop(index=[63,1860,2555,2883], inplace=True)"
   ]
  },
  {
   "cell_type": "code",
   "execution_count": null,
   "id": "4085b03a-ef63-4eb4-a288-9a7be7acb0b7",
   "metadata": {},
   "outputs": [],
   "source": [
    "sns.distplot(data[\"area\"])\n",
    "plt.title(\"Area after outlier removal\")\n",
    "plt.show()"
   ]
  },
  {
   "cell_type": "code",
   "execution_count": null,
   "id": "4333e87f-b5b3-43be-8007-63e9d412c8db",
   "metadata": {},
   "outputs": [],
   "source": []
  },
  {
   "cell_type": "markdown",
   "id": "1e45c257-7216-436f-a254-94f04b6fef35",
   "metadata": {},
   "source": [
    "# bedRoom"
   ]
  },
  {
   "cell_type": "code",
   "execution_count": null,
   "id": "b5769e44-02ba-4bc9-bc82-3507d823e204",
   "metadata": {},
   "outputs": [],
   "source": [
    "data[\"bedRoom\"].describe()"
   ]
  },
  {
   "cell_type": "code",
   "execution_count": null,
   "id": "456698f0-a1c0-4d91-997f-8dc1fd7d4474",
   "metadata": {},
   "outputs": [],
   "source": [
    "sns.distplot(data[\"bedRoom\"])\n",
    "plt.show()"
   ]
  },
  {
   "cell_type": "code",
   "execution_count": null,
   "id": "c1c7c9da-4b48-4a42-a298-6e8b35b628a0",
   "metadata": {
    "tags": []
   },
   "outputs": [],
   "source": [
    "data[data[\"bedRoom\"]>10]"
   ]
  },
  {
   "cell_type": "markdown",
   "id": "ad9af761-62c2-4a5b-98b5-8527f9502669",
   "metadata": {},
   "source": [
    "- In rows where number of bedrooms is > 10, it doesn't seem logical that the specified area could have those many bedrooms. \n",
    "- and we're gonna keep bedrooms as a part of our predictor model, so we are dropping these rows"
   ]
  },
  {
   "cell_type": "code",
   "execution_count": null,
   "id": "204d6633-1de5-41e9-b328-c88482910a37",
   "metadata": {},
   "outputs": [],
   "source": [
    "data = data[data[\"bedRoom\"] <= 10]"
   ]
  },
  {
   "cell_type": "code",
   "execution_count": null,
   "id": "a7057fb3-7257-4b21-961d-8082a2b7c843",
   "metadata": {},
   "outputs": [],
   "source": [
    "sns.distplot(data[\"bedRoom\"])\n",
    "plt.title(\"Distribution of bedRoom after outlier removal\")\n",
    "plt.show()"
   ]
  },
  {
   "cell_type": "code",
   "execution_count": null,
   "id": "365fdae5-0e4c-47c3-b70d-8d5b42e491e3",
   "metadata": {},
   "outputs": [],
   "source": []
  },
  {
   "cell_type": "markdown",
   "id": "f1ed0719-6cf5-4deb-b9c5-f9e31aa07830",
   "metadata": {},
   "source": [
    "# bathrooms"
   ]
  },
  {
   "cell_type": "code",
   "execution_count": null,
   "id": "d9aeca98-0691-4c15-b1b8-a766eb488bb1",
   "metadata": {},
   "outputs": [],
   "source": [
    "sns.distplot(data[\"bathroom\"])\n",
    "plt.show()"
   ]
  },
  {
   "cell_type": "code",
   "execution_count": null,
   "id": "dd2b15bb-77a8-4a2d-957e-a1d69dd5e5bc",
   "metadata": {},
   "outputs": [],
   "source": [
    "data[data[\"bathroom\"] > 10]"
   ]
  },
  {
   "cell_type": "markdown",
   "id": "008fe6c9-e8b7-4f7d-a52a-57c0688250e1",
   "metadata": {},
   "source": [
    "- In rows where number of bathrooms > 10 (`158`, `182`), the number of bathrooms makes sense given the area and price of the properties. so, keeping those"
   ]
  },
  {
   "cell_type": "code",
   "execution_count": null,
   "id": "a5bc24e1-aa1b-45ff-bae0-7199dd5e46a2",
   "metadata": {},
   "outputs": [],
   "source": []
  },
  {
   "cell_type": "markdown",
   "id": "95a485b9-cb83-4740-bbaa-508c919fae28",
   "metadata": {},
   "source": [
    "# super built up area"
   ]
  },
  {
   "cell_type": "code",
   "execution_count": null,
   "id": "7c9e9c5b-8ef4-4202-a173-9caee5a43ca7",
   "metadata": {},
   "outputs": [],
   "source": [
    "sns.distplot(data[\"super_builtup_area\"])\n",
    "plt.show()"
   ]
  },
  {
   "cell_type": "code",
   "execution_count": null,
   "id": "fd714892-32d3-44fe-8894-9bdefa9f896a",
   "metadata": {},
   "outputs": [],
   "source": [
    "sns.boxplot(data[\"super_builtup_area\"])\n",
    "plt.show()"
   ]
  },
  {
   "cell_type": "code",
   "execution_count": null,
   "id": "1fcb77a1-8294-4e94-b82e-e501f098d7a2",
   "metadata": {},
   "outputs": [],
   "source": []
  },
  {
   "cell_type": "markdown",
   "id": "906fafbd-d755-4189-9b4d-fba6a9f37bad",
   "metadata": {},
   "source": [
    "# Builtup area"
   ]
  },
  {
   "cell_type": "code",
   "execution_count": null,
   "id": "a751723d-18f6-4822-8850-aeacfa8498ab",
   "metadata": {},
   "outputs": [],
   "source": [
    "sns.distplot(data[\"builtup_area\"])\n",
    "plt.show()"
   ]
  },
  {
   "cell_type": "code",
   "execution_count": null,
   "id": "0628cd85-5196-45d0-92ae-f339ca1102cc",
   "metadata": {},
   "outputs": [],
   "source": [
    "sns.boxplot(data[\"builtup_area\"])\n",
    "plt.show()"
   ]
  },
  {
   "cell_type": "code",
   "execution_count": null,
   "id": "f6460255-54cc-4f79-ba23-74ed452e64d5",
   "metadata": {},
   "outputs": [],
   "source": []
  },
  {
   "cell_type": "markdown",
   "id": "31ae45f4-ebdc-4709-85e4-46999fc918ff",
   "metadata": {},
   "source": [
    "# Carpet area"
   ]
  },
  {
   "cell_type": "code",
   "execution_count": null,
   "id": "f27c0145-77e9-43c2-b83f-ed04e9aece83",
   "metadata": {},
   "outputs": [],
   "source": [
    "sns.distplot(data[\"carpet_area\"])\n",
    "plt.show()"
   ]
  },
  {
   "cell_type": "code",
   "execution_count": null,
   "id": "eb62175e-893d-4614-9083-ac026e9ad2bc",
   "metadata": {},
   "outputs": [],
   "source": [
    "sns.boxplot(data[\"carpet_area\"])\n",
    "plt.show()"
   ]
  },
  {
   "cell_type": "code",
   "execution_count": null,
   "id": "9ecc8b75-9516-4a09-9e76-6de2c0f75f62",
   "metadata": {},
   "outputs": [],
   "source": [
    "data[data[\"carpet_area\"] > 6000]"
   ]
  },
  {
   "cell_type": "code",
   "execution_count": null,
   "id": "1c9881b4-6e67-4857-914f-9efb7d14c1dc",
   "metadata": {},
   "outputs": [],
   "source": []
  },
  {
   "cell_type": "markdown",
   "id": "fa62c830-afdf-4467-b43b-d07b0a033c58",
   "metadata": {},
   "source": [
    "# area to bedroom ratio\n",
    "There are certain properties where the area is very small say, around 1200 sq ft but the number of bedrooms is quite high like 9 or 10"
   ]
  },
  {
   "cell_type": "code",
   "execution_count": 3,
   "id": "88bb96b7-1224-4657-a6d9-275218102363",
   "metadata": {
    "collapsed": true,
    "jupyter": {
     "outputs_hidden": true
    },
    "tags": []
   },
   "outputs": [
    {
     "data": {
      "text/html": [
       "<div>\n",
       "<style scoped>\n",
       "    .dataframe tbody tr th:only-of-type {\n",
       "        vertical-align: middle;\n",
       "    }\n",
       "\n",
       "    .dataframe tbody tr th {\n",
       "        vertical-align: top;\n",
       "    }\n",
       "\n",
       "    .dataframe thead th {\n",
       "        text-align: right;\n",
       "    }\n",
       "</style>\n",
       "<table border=\"1\" class=\"dataframe\">\n",
       "  <thead>\n",
       "    <tr style=\"text-align: right;\">\n",
       "      <th></th>\n",
       "      <th>property_type</th>\n",
       "      <th>society</th>\n",
       "      <th>price</th>\n",
       "      <th>price_per_sqft</th>\n",
       "      <th>area</th>\n",
       "      <th>areaWithType</th>\n",
       "      <th>bedRoom</th>\n",
       "      <th>bathroom</th>\n",
       "      <th>balcony</th>\n",
       "      <th>floorNum</th>\n",
       "      <th>...</th>\n",
       "      <th>Servant Room</th>\n",
       "      <th>Pooja Room</th>\n",
       "      <th>Others</th>\n",
       "      <th>Store Room</th>\n",
       "      <th>possession_category</th>\n",
       "      <th>furnishingType</th>\n",
       "      <th>super_builtup_area</th>\n",
       "      <th>builtup_area</th>\n",
       "      <th>carpet_area</th>\n",
       "      <th>luxury_score</th>\n",
       "    </tr>\n",
       "  </thead>\n",
       "  <tbody>\n",
       "    <tr>\n",
       "      <th>0</th>\n",
       "      <td>house</td>\n",
       "      <td>Bptp Visionnaire</td>\n",
       "      <td>5.25</td>\n",
       "      <td>20114.942529</td>\n",
       "      <td>2610.0</td>\n",
       "      <td>Plot area 290(242.48 sq.m.)</td>\n",
       "      <td>5.0</td>\n",
       "      <td>4.0</td>\n",
       "      <td>3+</td>\n",
       "      <td>3.0</td>\n",
       "      <td>...</td>\n",
       "      <td>1.0</td>\n",
       "      <td>0.0</td>\n",
       "      <td>0.0</td>\n",
       "      <td>0.0</td>\n",
       "      <td>new</td>\n",
       "      <td>1.0</td>\n",
       "      <td>NaN</td>\n",
       "      <td>2610.0</td>\n",
       "      <td>NaN</td>\n",
       "      <td>58.0</td>\n",
       "    </tr>\n",
       "    <tr>\n",
       "      <th>1</th>\n",
       "      <td>house</td>\n",
       "      <td>Emaar MGF Marbella</td>\n",
       "      <td>12.00</td>\n",
       "      <td>37037.037037</td>\n",
       "      <td>3240.0</td>\n",
       "      <td>Plot area 360(301.01 sq.m.)</td>\n",
       "      <td>5.0</td>\n",
       "      <td>5.0</td>\n",
       "      <td>3+</td>\n",
       "      <td>3.0</td>\n",
       "      <td>...</td>\n",
       "      <td>1.0</td>\n",
       "      <td>1.0</td>\n",
       "      <td>0.0</td>\n",
       "      <td>1.0</td>\n",
       "      <td>new</td>\n",
       "      <td>1.0</td>\n",
       "      <td>NaN</td>\n",
       "      <td>3240.0</td>\n",
       "      <td>NaN</td>\n",
       "      <td>135.0</td>\n",
       "    </tr>\n",
       "    <tr>\n",
       "      <th>2</th>\n",
       "      <td>house</td>\n",
       "      <td>NaN</td>\n",
       "      <td>2.10</td>\n",
       "      <td>2592.592593</td>\n",
       "      <td>8100.0</td>\n",
       "      <td>Plot area 100(83.61 sq.m.)</td>\n",
       "      <td>7.0</td>\n",
       "      <td>7.0</td>\n",
       "      <td>3+</td>\n",
       "      <td>3.0</td>\n",
       "      <td>...</td>\n",
       "      <td>0.0</td>\n",
       "      <td>1.0</td>\n",
       "      <td>0.0</td>\n",
       "      <td>1.0</td>\n",
       "      <td>relatively new</td>\n",
       "      <td>0.0</td>\n",
       "      <td>NaN</td>\n",
       "      <td>8100.0</td>\n",
       "      <td>NaN</td>\n",
       "      <td>27.0</td>\n",
       "    </tr>\n",
       "    <tr>\n",
       "      <th>3</th>\n",
       "      <td>house</td>\n",
       "      <td>NaN</td>\n",
       "      <td>3.40</td>\n",
       "      <td>12937.595129</td>\n",
       "      <td>2628.0</td>\n",
       "      <td>Plot area 292(244.15 sq.m.)</td>\n",
       "      <td>9.0</td>\n",
       "      <td>9.0</td>\n",
       "      <td>3</td>\n",
       "      <td>3.0</td>\n",
       "      <td>...</td>\n",
       "      <td>NaN</td>\n",
       "      <td>NaN</td>\n",
       "      <td>NaN</td>\n",
       "      <td>NaN</td>\n",
       "      <td>moderately old</td>\n",
       "      <td>1.0</td>\n",
       "      <td>NaN</td>\n",
       "      <td>2628.0</td>\n",
       "      <td>NaN</td>\n",
       "      <td>70.0</td>\n",
       "    </tr>\n",
       "    <tr>\n",
       "      <th>4</th>\n",
       "      <td>house</td>\n",
       "      <td>Emaar MGF Marbella</td>\n",
       "      <td>12.00</td>\n",
       "      <td>38095.238095</td>\n",
       "      <td>3150.0</td>\n",
       "      <td>Plot area 350(292.64 sq.m.)</td>\n",
       "      <td>5.0</td>\n",
       "      <td>6.0</td>\n",
       "      <td>3+</td>\n",
       "      <td>3.0</td>\n",
       "      <td>...</td>\n",
       "      <td>1.0</td>\n",
       "      <td>0.0</td>\n",
       "      <td>0.0</td>\n",
       "      <td>1.0</td>\n",
       "      <td>relatively new</td>\n",
       "      <td>1.0</td>\n",
       "      <td>NaN</td>\n",
       "      <td>3150.0</td>\n",
       "      <td>NaN</td>\n",
       "      <td>184.0</td>\n",
       "    </tr>\n",
       "  </tbody>\n",
       "</table>\n",
       "<p>5 rows × 23 columns</p>\n",
       "</div>"
      ],
      "text/plain": [
       "  property_type             society  price  price_per_sqft    area  \\\n",
       "0         house    Bptp Visionnaire   5.25    20114.942529  2610.0   \n",
       "1         house  Emaar MGF Marbella  12.00    37037.037037  3240.0   \n",
       "2         house                 NaN   2.10     2592.592593  8100.0   \n",
       "3         house                 NaN   3.40    12937.595129  2628.0   \n",
       "4         house  Emaar MGF Marbella  12.00    38095.238095  3150.0   \n",
       "\n",
       "                  areaWithType  bedRoom  bathroom balcony  floorNum  ...  \\\n",
       "0  Plot area 290(242.48 sq.m.)      5.0       4.0      3+       3.0  ...   \n",
       "1  Plot area 360(301.01 sq.m.)      5.0       5.0      3+       3.0  ...   \n",
       "2   Plot area 100(83.61 sq.m.)      7.0       7.0      3+       3.0  ...   \n",
       "3  Plot area 292(244.15 sq.m.)      9.0       9.0       3       3.0  ...   \n",
       "4  Plot area 350(292.64 sq.m.)      5.0       6.0      3+       3.0  ...   \n",
       "\n",
       "  Servant Room Pooja Room  Others  Store Room  possession_category  \\\n",
       "0          1.0        0.0     0.0         0.0                  new   \n",
       "1          1.0        1.0     0.0         1.0                  new   \n",
       "2          0.0        1.0     0.0         1.0       relatively new   \n",
       "3          NaN        NaN     NaN         NaN       moderately old   \n",
       "4          1.0        0.0     0.0         1.0       relatively new   \n",
       "\n",
       "   furnishingType  super_builtup_area builtup_area  carpet_area  luxury_score  \n",
       "0             1.0                 NaN       2610.0          NaN          58.0  \n",
       "1             1.0                 NaN       3240.0          NaN         135.0  \n",
       "2             0.0                 NaN       8100.0          NaN          27.0  \n",
       "3             1.0                 NaN       2628.0          NaN          70.0  \n",
       "4             1.0                 NaN       3150.0          NaN         184.0  \n",
       "\n",
       "[5 rows x 23 columns]"
      ]
     },
     "execution_count": 3,
     "metadata": {},
     "output_type": "execute_result"
    }
   ],
   "source": [
    "data= pd.read_csv(\"./gurgaon_properties_post_outlier_removal.csv\").drop(columns=\"Unnamed: 0\")\n",
    "data.head()"
   ]
  },
  {
   "cell_type": "code",
   "execution_count": 5,
   "id": "509eb5bd-310d-4121-b01f-1ebd2931364b",
   "metadata": {},
   "outputs": [
    {
     "data": {
      "text/plain": [
       "295.0"
      ]
     },
     "execution_count": 5,
     "metadata": {},
     "output_type": "execute_result"
    }
   ],
   "source": [
    "(data[\"area\"] / data[\"bedRoom\"]).quantile(0.05)"
   ]
  },
  {
   "cell_type": "markdown",
   "id": "a2e3c72d-164a-416e-b2ba-02a18e82fe86",
   "metadata": {},
   "source": [
    "if area to bedroom ratio is less than 295, it can be an outlier"
   ]
  },
  {
   "cell_type": "code",
   "execution_count": 10,
   "id": "613bb72d-3d17-44e2-8755-e0d29acfa1a8",
   "metadata": {},
   "outputs": [],
   "source": [
    "data[\"area_to_bedroom_ratio\"] = data[\"area\"] / data[\"bedRoom\"]"
   ]
  },
  {
   "cell_type": "code",
   "execution_count": 11,
   "id": "9eb2bf5b-5bd2-4d8e-84dc-1f7574697e3b",
   "metadata": {},
   "outputs": [],
   "source": [
    "ab_outlier_df = data[data[\"area_to_bedroom_ratio\"] < 295]"
   ]
  },
  {
   "cell_type": "code",
   "execution_count": 12,
   "id": "4f54e7e8-e222-40ce-87d9-adfca43828a5",
   "metadata": {},
   "outputs": [],
   "source": [
    "ab_outlier_df.to_csv(\"ab_outlier.csv\")"
   ]
  },
  {
   "cell_type": "markdown",
   "id": "08b0f8bb-d90f-44f8-bb25-5f7ee59a950b",
   "metadata": {},
   "source": [
    "- Dropping rows where area to bedroom ratio < 100"
   ]
  },
  {
   "cell_type": "code",
   "execution_count": null,
   "id": "bf1c9086-442b-4a07-a0de-795230bb5112",
   "metadata": {},
   "outputs": [],
   "source": [
    "data = data[data[\"area_to_bedroom_ratio\"] > 100]"
   ]
  },
  {
   "cell_type": "markdown",
   "id": "af25a34f-c208-4033-ad44-dee86f778968",
   "metadata": {},
   "source": [
    "- There are properties with multiple floors. so, say there are 9 bedrooms but 3 floors, then it is possible to have 3 bedrooms on each floor and the plot area might actually justify it. so, to get the number of bedrooms per floor, divide bedRooms by floorNum"
   ]
  },
  {
   "cell_type": "code",
   "execution_count": 18,
   "id": "6b4113a2-f514-4d20-8c8f-582d04966278",
   "metadata": {},
   "outputs": [],
   "source": [
    "data[\"bedRoom\"] =round(data[\"bedRoom\"] / data[\"floorNum\"])"
   ]
  },
  {
   "cell_type": "code",
   "execution_count": 20,
   "id": "c0483f71-45f5-4f09-a152-0d94aef6e497",
   "metadata": {},
   "outputs": [],
   "source": [
    "# recalculating the area to bedroom ratio\n",
    "data[\"area_to_bedroom_ratio\"] = data[\"area\"] / data[\"bedRoom\"]"
   ]
  },
  {
   "cell_type": "code",
   "execution_count": 21,
   "id": "68889c4b-603b-46e3-a8f0-1970c0d5b4d1",
   "metadata": {
    "collapsed": true,
    "jupyter": {
     "outputs_hidden": true
    },
    "tags": []
   },
   "outputs": [
    {
     "data": {
      "text/html": [
       "<div>\n",
       "<style scoped>\n",
       "    .dataframe tbody tr th:only-of-type {\n",
       "        vertical-align: middle;\n",
       "    }\n",
       "\n",
       "    .dataframe tbody tr th {\n",
       "        vertical-align: top;\n",
       "    }\n",
       "\n",
       "    .dataframe thead th {\n",
       "        text-align: right;\n",
       "    }\n",
       "</style>\n",
       "<table border=\"1\" class=\"dataframe\">\n",
       "  <thead>\n",
       "    <tr style=\"text-align: right;\">\n",
       "      <th></th>\n",
       "      <th>property_type</th>\n",
       "      <th>society</th>\n",
       "      <th>price</th>\n",
       "      <th>price_per_sqft</th>\n",
       "      <th>area</th>\n",
       "      <th>areaWithType</th>\n",
       "      <th>bedRoom</th>\n",
       "      <th>bathroom</th>\n",
       "      <th>balcony</th>\n",
       "      <th>floorNum</th>\n",
       "      <th>...</th>\n",
       "      <th>Pooja Room</th>\n",
       "      <th>Others</th>\n",
       "      <th>Store Room</th>\n",
       "      <th>possession_category</th>\n",
       "      <th>furnishingType</th>\n",
       "      <th>super_builtup_area</th>\n",
       "      <th>builtup_area</th>\n",
       "      <th>carpet_area</th>\n",
       "      <th>luxury_score</th>\n",
       "      <th>area_to_bedroom_ratio</th>\n",
       "    </tr>\n",
       "  </thead>\n",
       "  <tbody>\n",
       "    <tr>\n",
       "      <th>71</th>\n",
       "      <td>house</td>\n",
       "      <td>NaN</td>\n",
       "      <td>7.25</td>\n",
       "      <td>29340.348037</td>\n",
       "      <td>2471.0</td>\n",
       "      <td>Plot area 303(253.35 sq.m.)</td>\n",
       "      <td>inf</td>\n",
       "      <td>8.0</td>\n",
       "      <td>3+</td>\n",
       "      <td>0.0</td>\n",
       "      <td>...</td>\n",
       "      <td>NaN</td>\n",
       "      <td>NaN</td>\n",
       "      <td>NaN</td>\n",
       "      <td>moderately old</td>\n",
       "      <td>1.0</td>\n",
       "      <td>NaN</td>\n",
       "      <td>2727.000000</td>\n",
       "      <td>NaN</td>\n",
       "      <td>24.0</td>\n",
       "      <td>0.000000</td>\n",
       "    </tr>\n",
       "    <tr>\n",
       "      <th>101</th>\n",
       "      <td>house</td>\n",
       "      <td>NaN</td>\n",
       "      <td>0.92</td>\n",
       "      <td>15257.048093</td>\n",
       "      <td>603.0</td>\n",
       "      <td>Built Up area: 603 (56.02 sq.m.)</td>\n",
       "      <td>4.0</td>\n",
       "      <td>1.0</td>\n",
       "      <td>No</td>\n",
       "      <td>1.0</td>\n",
       "      <td>...</td>\n",
       "      <td>NaN</td>\n",
       "      <td>NaN</td>\n",
       "      <td>NaN</td>\n",
       "      <td>NaN</td>\n",
       "      <td>0.0</td>\n",
       "      <td>NaN</td>\n",
       "      <td>602.993678</td>\n",
       "      <td>NaN</td>\n",
       "      <td>0.0</td>\n",
       "      <td>150.750000</td>\n",
       "    </tr>\n",
       "    <tr>\n",
       "      <th>102</th>\n",
       "      <td>house</td>\n",
       "      <td>Surendra Homes Dayanand Colony</td>\n",
       "      <td>0.75</td>\n",
       "      <td>15625.000000</td>\n",
       "      <td>480.0</td>\n",
       "      <td>Built Up area: 480 (44.59 sq.m.)</td>\n",
       "      <td>4.0</td>\n",
       "      <td>4.0</td>\n",
       "      <td>2</td>\n",
       "      <td>1.0</td>\n",
       "      <td>...</td>\n",
       "      <td>NaN</td>\n",
       "      <td>NaN</td>\n",
       "      <td>NaN</td>\n",
       "      <td>NaN</td>\n",
       "      <td>0.0</td>\n",
       "      <td>NaN</td>\n",
       "      <td>479.962301</td>\n",
       "      <td>NaN</td>\n",
       "      <td>0.0</td>\n",
       "      <td>120.000000</td>\n",
       "    </tr>\n",
       "    <tr>\n",
       "      <th>115</th>\n",
       "      <td>house</td>\n",
       "      <td>Bhim Garh Kheri</td>\n",
       "      <td>1.50</td>\n",
       "      <td>7575.757576</td>\n",
       "      <td>1980.0</td>\n",
       "      <td>Plot area 220(183.95 sq.m.)</td>\n",
       "      <td>7.0</td>\n",
       "      <td>2.0</td>\n",
       "      <td>No</td>\n",
       "      <td>1.0</td>\n",
       "      <td>...</td>\n",
       "      <td>NaN</td>\n",
       "      <td>NaN</td>\n",
       "      <td>NaN</td>\n",
       "      <td>NaN</td>\n",
       "      <td>0.0</td>\n",
       "      <td>NaN</td>\n",
       "      <td>1980.000000</td>\n",
       "      <td>NaN</td>\n",
       "      <td>0.0</td>\n",
       "      <td>282.857143</td>\n",
       "    </tr>\n",
       "    <tr>\n",
       "      <th>165</th>\n",
       "      <td>house</td>\n",
       "      <td>NaN</td>\n",
       "      <td>3.50</td>\n",
       "      <td>15555.555556</td>\n",
       "      <td>2250.0</td>\n",
       "      <td>Built Up area: 2250 (209.03 sq.m.)</td>\n",
       "      <td>10.0</td>\n",
       "      <td>1.0</td>\n",
       "      <td>No</td>\n",
       "      <td>1.0</td>\n",
       "      <td>...</td>\n",
       "      <td>NaN</td>\n",
       "      <td>NaN</td>\n",
       "      <td>NaN</td>\n",
       "      <td>new</td>\n",
       "      <td>0.0</td>\n",
       "      <td>NaN</td>\n",
       "      <td>2249.978017</td>\n",
       "      <td>NaN</td>\n",
       "      <td>0.0</td>\n",
       "      <td>225.000000</td>\n",
       "    </tr>\n",
       "    <tr>\n",
       "      <th>520</th>\n",
       "      <td>flat</td>\n",
       "      <td>M3M Soulitude</td>\n",
       "      <td>1.32</td>\n",
       "      <td>16923.076923</td>\n",
       "      <td>780.0</td>\n",
       "      <td>Carpet area: 780 (72.46 sq.m.)</td>\n",
       "      <td>3.0</td>\n",
       "      <td>3.0</td>\n",
       "      <td>3</td>\n",
       "      <td>1.0</td>\n",
       "      <td>...</td>\n",
       "      <td>NaN</td>\n",
       "      <td>NaN</td>\n",
       "      <td>NaN</td>\n",
       "      <td>new</td>\n",
       "      <td>0.0</td>\n",
       "      <td>NaN</td>\n",
       "      <td>NaN</td>\n",
       "      <td>779.952194</td>\n",
       "      <td>73.0</td>\n",
       "      <td>260.000000</td>\n",
       "    </tr>\n",
       "    <tr>\n",
       "      <th>1470</th>\n",
       "      <td>flat</td>\n",
       "      <td>Pivotal Devaan</td>\n",
       "      <td>0.34</td>\n",
       "      <td>7039.337474</td>\n",
       "      <td>483.0</td>\n",
       "      <td>Carpet area: 483 (44.87 sq.m.)</td>\n",
       "      <td>2.0</td>\n",
       "      <td>2.0</td>\n",
       "      <td>1</td>\n",
       "      <td>1.0</td>\n",
       "      <td>...</td>\n",
       "      <td>0.0</td>\n",
       "      <td>0.0</td>\n",
       "      <td>1.0</td>\n",
       "      <td>relatively new</td>\n",
       "      <td>1.0</td>\n",
       "      <td>NaN</td>\n",
       "      <td>NaN</td>\n",
       "      <td>482.976193</td>\n",
       "      <td>123.0</td>\n",
       "      <td>241.500000</td>\n",
       "    </tr>\n",
       "    <tr>\n",
       "      <th>2181</th>\n",
       "      <td>flat</td>\n",
       "      <td>RWA</td>\n",
       "      <td>0.48</td>\n",
       "      <td>6000.000000</td>\n",
       "      <td>800.0</td>\n",
       "      <td>Carpet area: 800 (74.32 sq.m.)</td>\n",
       "      <td>3.0</td>\n",
       "      <td>2.0</td>\n",
       "      <td>1</td>\n",
       "      <td>1.0</td>\n",
       "      <td>...</td>\n",
       "      <td>NaN</td>\n",
       "      <td>NaN</td>\n",
       "      <td>NaN</td>\n",
       "      <td>new</td>\n",
       "      <td>0.0</td>\n",
       "      <td>NaN</td>\n",
       "      <td>NaN</td>\n",
       "      <td>799.973048</td>\n",
       "      <td>28.0</td>\n",
       "      <td>266.666667</td>\n",
       "    </tr>\n",
       "    <tr>\n",
       "      <th>2351</th>\n",
       "      <td>flat</td>\n",
       "      <td>Signature Global Park 4</td>\n",
       "      <td>0.85</td>\n",
       "      <td>11333.333333</td>\n",
       "      <td>750.0</td>\n",
       "      <td>Carpet area: 750 (69.68 sq.m.)</td>\n",
       "      <td>3.0</td>\n",
       "      <td>2.0</td>\n",
       "      <td>3</td>\n",
       "      <td>1.0</td>\n",
       "      <td>...</td>\n",
       "      <td>NaN</td>\n",
       "      <td>NaN</td>\n",
       "      <td>NaN</td>\n",
       "      <td>new</td>\n",
       "      <td>0.0</td>\n",
       "      <td>NaN</td>\n",
       "      <td>NaN</td>\n",
       "      <td>750.028552</td>\n",
       "      <td>40.0</td>\n",
       "      <td>250.000000</td>\n",
       "    </tr>\n",
       "  </tbody>\n",
       "</table>\n",
       "<p>9 rows × 24 columns</p>\n",
       "</div>"
      ],
      "text/plain": [
       "     property_type                         society  price  price_per_sqft  \\\n",
       "71           house                             NaN   7.25    29340.348037   \n",
       "101          house                             NaN   0.92    15257.048093   \n",
       "102          house  Surendra Homes Dayanand Colony   0.75    15625.000000   \n",
       "115          house                 Bhim Garh Kheri   1.50     7575.757576   \n",
       "165          house                             NaN   3.50    15555.555556   \n",
       "520           flat                   M3M Soulitude   1.32    16923.076923   \n",
       "1470          flat                  Pivotal Devaan   0.34     7039.337474   \n",
       "2181          flat                             RWA   0.48     6000.000000   \n",
       "2351          flat         Signature Global Park 4   0.85    11333.333333   \n",
       "\n",
       "        area                        areaWithType  bedRoom  bathroom balcony  \\\n",
       "71    2471.0         Plot area 303(253.35 sq.m.)      inf       8.0      3+   \n",
       "101    603.0    Built Up area: 603 (56.02 sq.m.)      4.0       1.0      No   \n",
       "102    480.0    Built Up area: 480 (44.59 sq.m.)      4.0       4.0       2   \n",
       "115   1980.0         Plot area 220(183.95 sq.m.)      7.0       2.0      No   \n",
       "165   2250.0  Built Up area: 2250 (209.03 sq.m.)     10.0       1.0      No   \n",
       "520    780.0      Carpet area: 780 (72.46 sq.m.)      3.0       3.0       3   \n",
       "1470   483.0      Carpet area: 483 (44.87 sq.m.)      2.0       2.0       1   \n",
       "2181   800.0      Carpet area: 800 (74.32 sq.m.)      3.0       2.0       1   \n",
       "2351   750.0      Carpet area: 750 (69.68 sq.m.)      3.0       2.0       3   \n",
       "\n",
       "      floorNum  ... Pooja Room Others  Store Room  possession_category  \\\n",
       "71         0.0  ...        NaN    NaN         NaN       moderately old   \n",
       "101        1.0  ...        NaN    NaN         NaN                  NaN   \n",
       "102        1.0  ...        NaN    NaN         NaN                  NaN   \n",
       "115        1.0  ...        NaN    NaN         NaN                  NaN   \n",
       "165        1.0  ...        NaN    NaN         NaN                  new   \n",
       "520        1.0  ...        NaN    NaN         NaN                  new   \n",
       "1470       1.0  ...        0.0    0.0         1.0       relatively new   \n",
       "2181       1.0  ...        NaN    NaN         NaN                  new   \n",
       "2351       1.0  ...        NaN    NaN         NaN                  new   \n",
       "\n",
       "      furnishingType  super_builtup_area  builtup_area carpet_area  \\\n",
       "71               1.0                 NaN   2727.000000         NaN   \n",
       "101              0.0                 NaN    602.993678         NaN   \n",
       "102              0.0                 NaN    479.962301         NaN   \n",
       "115              0.0                 NaN   1980.000000         NaN   \n",
       "165              0.0                 NaN   2249.978017         NaN   \n",
       "520              0.0                 NaN           NaN  779.952194   \n",
       "1470             1.0                 NaN           NaN  482.976193   \n",
       "2181             0.0                 NaN           NaN  799.973048   \n",
       "2351             0.0                 NaN           NaN  750.028552   \n",
       "\n",
       "      luxury_score  area_to_bedroom_ratio  \n",
       "71            24.0               0.000000  \n",
       "101            0.0             150.750000  \n",
       "102            0.0             120.000000  \n",
       "115            0.0             282.857143  \n",
       "165            0.0             225.000000  \n",
       "520           73.0             260.000000  \n",
       "1470         123.0             241.500000  \n",
       "2181          28.0             266.666667  \n",
       "2351          40.0             250.000000  \n",
       "\n",
       "[9 rows x 24 columns]"
      ]
     },
     "execution_count": 21,
     "metadata": {},
     "output_type": "execute_result"
    }
   ],
   "source": [
    "data[data[\"area_to_bedroom_ratio\"] < 295]"
   ]
  },
  {
   "cell_type": "markdown",
   "id": "469affaf-0e38-4285-8e76-ef20153b70df",
   "metadata": {},
   "source": [
    "- row 71 -> 9 bedrooms in 2471 sqft -> illogical\n",
    "- rows = `101`, `102`, `1470`, `2181`, `2351` -> there's 3 or 4 bedrooms in areas <= 800 ft on a single floor. -> dropping them"
   ]
  },
  {
   "cell_type": "code",
   "execution_count": 22,
   "id": "f095eb3e-c6fc-471f-916b-3ad54f41fb17",
   "metadata": {},
   "outputs": [],
   "source": [
    "data.drop(index=[71,101,102,1470,2181,2351], inplace=True)"
   ]
  },
  {
   "cell_type": "code",
   "execution_count": 23,
   "id": "11e66833-6025-4a9c-bed7-f67646627227",
   "metadata": {},
   "outputs": [
    {
     "data": {
      "text/html": [
       "<div>\n",
       "<style scoped>\n",
       "    .dataframe tbody tr th:only-of-type {\n",
       "        vertical-align: middle;\n",
       "    }\n",
       "\n",
       "    .dataframe tbody tr th {\n",
       "        vertical-align: top;\n",
       "    }\n",
       "\n",
       "    .dataframe thead th {\n",
       "        text-align: right;\n",
       "    }\n",
       "</style>\n",
       "<table border=\"1\" class=\"dataframe\">\n",
       "  <thead>\n",
       "    <tr style=\"text-align: right;\">\n",
       "      <th></th>\n",
       "      <th>property_type</th>\n",
       "      <th>society</th>\n",
       "      <th>price</th>\n",
       "      <th>price_per_sqft</th>\n",
       "      <th>area</th>\n",
       "      <th>areaWithType</th>\n",
       "      <th>bedRoom</th>\n",
       "      <th>bathroom</th>\n",
       "      <th>balcony</th>\n",
       "      <th>floorNum</th>\n",
       "      <th>...</th>\n",
       "      <th>Pooja Room</th>\n",
       "      <th>Others</th>\n",
       "      <th>Store Room</th>\n",
       "      <th>possession_category</th>\n",
       "      <th>furnishingType</th>\n",
       "      <th>super_builtup_area</th>\n",
       "      <th>builtup_area</th>\n",
       "      <th>carpet_area</th>\n",
       "      <th>luxury_score</th>\n",
       "      <th>area_to_bedroom_ratio</th>\n",
       "    </tr>\n",
       "  </thead>\n",
       "  <tbody>\n",
       "    <tr>\n",
       "      <th>115</th>\n",
       "      <td>house</td>\n",
       "      <td>Bhim Garh Kheri</td>\n",
       "      <td>1.50</td>\n",
       "      <td>7575.757576</td>\n",
       "      <td>1980.0</td>\n",
       "      <td>Plot area 220(183.95 sq.m.)</td>\n",
       "      <td>7.0</td>\n",
       "      <td>2.0</td>\n",
       "      <td>No</td>\n",
       "      <td>1.0</td>\n",
       "      <td>...</td>\n",
       "      <td>NaN</td>\n",
       "      <td>NaN</td>\n",
       "      <td>NaN</td>\n",
       "      <td>NaN</td>\n",
       "      <td>0.0</td>\n",
       "      <td>NaN</td>\n",
       "      <td>1980.000000</td>\n",
       "      <td>NaN</td>\n",
       "      <td>0.0</td>\n",
       "      <td>282.857143</td>\n",
       "    </tr>\n",
       "    <tr>\n",
       "      <th>165</th>\n",
       "      <td>house</td>\n",
       "      <td>NaN</td>\n",
       "      <td>3.50</td>\n",
       "      <td>15555.555556</td>\n",
       "      <td>2250.0</td>\n",
       "      <td>Built Up area: 2250 (209.03 sq.m.)</td>\n",
       "      <td>10.0</td>\n",
       "      <td>1.0</td>\n",
       "      <td>No</td>\n",
       "      <td>1.0</td>\n",
       "      <td>...</td>\n",
       "      <td>NaN</td>\n",
       "      <td>NaN</td>\n",
       "      <td>NaN</td>\n",
       "      <td>new</td>\n",
       "      <td>0.0</td>\n",
       "      <td>NaN</td>\n",
       "      <td>2249.978017</td>\n",
       "      <td>NaN</td>\n",
       "      <td>0.0</td>\n",
       "      <td>225.000000</td>\n",
       "    </tr>\n",
       "    <tr>\n",
       "      <th>520</th>\n",
       "      <td>flat</td>\n",
       "      <td>M3M Soulitude</td>\n",
       "      <td>1.32</td>\n",
       "      <td>16923.076923</td>\n",
       "      <td>780.0</td>\n",
       "      <td>Carpet area: 780 (72.46 sq.m.)</td>\n",
       "      <td>3.0</td>\n",
       "      <td>3.0</td>\n",
       "      <td>3</td>\n",
       "      <td>1.0</td>\n",
       "      <td>...</td>\n",
       "      <td>NaN</td>\n",
       "      <td>NaN</td>\n",
       "      <td>NaN</td>\n",
       "      <td>new</td>\n",
       "      <td>0.0</td>\n",
       "      <td>NaN</td>\n",
       "      <td>NaN</td>\n",
       "      <td>779.952194</td>\n",
       "      <td>73.0</td>\n",
       "      <td>260.000000</td>\n",
       "    </tr>\n",
       "  </tbody>\n",
       "</table>\n",
       "<p>3 rows × 24 columns</p>\n",
       "</div>"
      ],
      "text/plain": [
       "    property_type          society  price  price_per_sqft    area  \\\n",
       "115         house  Bhim Garh Kheri   1.50     7575.757576  1980.0   \n",
       "165         house              NaN   3.50    15555.555556  2250.0   \n",
       "520          flat    M3M Soulitude   1.32    16923.076923   780.0   \n",
       "\n",
       "                           areaWithType  bedRoom  bathroom balcony  floorNum  \\\n",
       "115         Plot area 220(183.95 sq.m.)      7.0       2.0      No       1.0   \n",
       "165  Built Up area: 2250 (209.03 sq.m.)     10.0       1.0      No       1.0   \n",
       "520      Carpet area: 780 (72.46 sq.m.)      3.0       3.0       3       1.0   \n",
       "\n",
       "     ... Pooja Room Others  Store Room  possession_category  furnishingType  \\\n",
       "115  ...        NaN    NaN         NaN                  NaN             0.0   \n",
       "165  ...        NaN    NaN         NaN                  new             0.0   \n",
       "520  ...        NaN    NaN         NaN                  new             0.0   \n",
       "\n",
       "     super_builtup_area  builtup_area carpet_area  luxury_score  \\\n",
       "115                 NaN   1980.000000         NaN           0.0   \n",
       "165                 NaN   2249.978017         NaN           0.0   \n",
       "520                 NaN           NaN  779.952194          73.0   \n",
       "\n",
       "     area_to_bedroom_ratio  \n",
       "115             282.857143  \n",
       "165             225.000000  \n",
       "520             260.000000  \n",
       "\n",
       "[3 rows x 24 columns]"
      ]
     },
     "execution_count": 23,
     "metadata": {},
     "output_type": "execute_result"
    }
   ],
   "source": [
    "data[data[\"area_to_bedroom_ratio\"] < 295]"
   ]
  },
  {
   "cell_type": "markdown",
   "id": "daf5fdca-7ee0-46dd-8323-402294e7309f",
   "metadata": {},
   "source": [
    "- in rows `115`, `165`, `520` -> there's again a large number of bedrooms in small area and a single floor -> dropping them"
   ]
  },
  {
   "cell_type": "code",
   "execution_count": 24,
   "id": "7d415463-0647-4de7-b653-8d465657b3da",
   "metadata": {},
   "outputs": [],
   "source": [
    "data.drop(index=[115,165,520], inplace=True)"
   ]
  },
  {
   "cell_type": "code",
   "execution_count": 26,
   "id": "1d20dd9c-d7a8-4977-8581-2d022fa6d618",
   "metadata": {},
   "outputs": [
    {
     "data": {
      "image/png": "[encoded data removed]",
      "text/plain": [
       "<Figure size 500x500 with 1 Axes>"
      ]
     },
     "metadata": {},
     "output_type": "display_data"
    }
   ],
   "source": [
    "sns.lmplot(data=data, x=\"area\", y=\"bedRoom\")\n",
    "plt.show()"
   ]
  },
  {
   "cell_type": "code",
   "execution_count": null,
   "id": "6d7b18e5-9805-48ca-9cb2-9ea800197093",
   "metadata": {},
   "outputs": [],
   "source": []
  },
  {
   "cell_type": "markdown",
   "id": "61148c05-577d-4087-9f80-f552b27e9a15",
   "metadata": {},
   "source": [
    "# exporting as csv"
   ]
  },
  {
   "cell_type": "code",
   "execution_count": 27,
   "id": "8b454f94-401b-43f2-beb7-346cf14a6177",
   "metadata": {},
   "outputs": [
    {
     "data": {
      "text/plain": [
       "(2834, 24)"
      ]
     },
     "execution_count": 27,
     "metadata": {},
     "output_type": "execute_result"
    }
   ],
   "source": [
    "data.shape"
   ]
  },
  {
   "cell_type": "code",
   "execution_count": 28,
   "id": "7ba02fdf-1af0-48d9-b88b-936b187a7002",
   "metadata": {},
   "outputs": [],
   "source": [
    "data.to_csv(\"gurgaon_properties_after_outlier_treatment.csv\")"
   ]
  },
  {
   "cell_type": "code",
   "execution_count": null,
   "id": "1d7d0104-3fa7-4b53-bfc5-382957ce1746",
   "metadata": {},
   "outputs": [],
   "source": []
  },
  {
   "cell_type": "code",
   "execution_count": null,
   "id": "c85055f0-c637-4345-8b98-6e1a4cd3571d",
   "metadata": {},
   "outputs": [],
   "source": []
  },
  {
   "cell_type": "code",
   "execution_count": null,
   "id": "c678bde4-506d-425c-9e52-3ffee671fc57",
   "metadata": {},
   "outputs": [],
   "source": []
  },
  {
   "cell_type": "code",
   "execution_count": null,
   "id": "cf938743-6873-4cb7-9d0e-faf2fd3cd438",
   "metadata": {},
   "outputs": [],
   "source": []
  }
 ],
 "metadata": {
  "kernelspec": {
   "display_name": "Python 3 (ipykernel)",
   "language": "python",
   "name": "python3"
  },
  "language_info": {
   "codemirror_mode": {
    "name": "ipython",
    "version": 3
   },
   "file_extension": ".py",
   "mimetype": "text/x-python",
   "name": "python",
   "nbconvert_exporter": "python",
   "pygments_lexer": "ipython3",
   "version": "3.9.13"
  }
 },
 "nbformat": 4,
 "nbformat_minor": 5
}
