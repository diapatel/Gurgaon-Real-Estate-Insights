{
 "cells": [
  {
   "cell_type": "code",
   "execution_count": null,
   "id": "4f610130-af2c-4e56-8ec4-ef17fdb3bf94",
   "metadata": {},
   "outputs": [],
   "source": [
    "import pandas as pd\n",
    "import numpy as np\n",
    "import matplotlib.pyplot as plt\n",
    "import seaborn as sns\n",
    "\n",
    "import warnings\n",
    "warnings.filterwarnings(\"ignore\")\n",
    "pd.set_option(\"display.max_columns\", None)"
   ]
  },
  {
   "cell_type": "code",
   "execution_count": null,
   "id": "fb74868b-eb02-42ca-b761-463d0416daaa",
   "metadata": {},
   "outputs": [],
   "source": [
    "data = pd.read_csv(\"./gurgaon_properties_outlier_treated.csv\")\n",
    "data.head()"
   ]
  },
  {
   "cell_type": "code",
   "execution_count": null,
   "id": "cd88593a-617b-4237-bfb0-ebdc813ce8af",
   "metadata": {},
   "outputs": [],
   "source": [
    "data.isnull().sum()"
   ]
  },
  {
   "cell_type": "code",
   "execution_count": null,
   "id": "61e0aa44-ee0a-4491-baa7-54813cd8a35b",
   "metadata": {},
   "outputs": [],
   "source": []
  },
  {
   "cell_type": "markdown",
   "id": "c30c18cb-2332-4d5d-a30d-16792f37910f",
   "metadata": {},
   "source": [
    "# Built up area"
   ]
  },
  {
   "cell_type": "code",
   "execution_count": null,
   "id": "ba6c169f-716a-4a00-883d-306bb6372954",
   "metadata": {},
   "outputs": [],
   "source": [
    "sns.scatterplot(data=data, x=\"built_up_area\", y=\"super_built_up_area\")\n",
    "plt.show()"
   ]
  },
  {
   "cell_type": "code",
   "execution_count": null,
   "id": "80968cc9-8354-4648-a5b2-d93779db5230",
   "metadata": {},
   "outputs": [],
   "source": [
    "sns.scatterplot(data=data, x=\"built_up_area\", y=\"carpet_area\")\n",
    "plt.show()"
   ]
  },
  {
   "cell_type": "code",
   "execution_count": null,
   "id": "8defb686-08fb-4e9a-bceb-910ec0803518",
   "metadata": {},
   "outputs": [],
   "source": [
    "data[(data[\"super_built_up_area\"].isnull()) & (data[\"built_up_area\"].isnull()) & (data[\"carpet_area\"].isnull())]"
   ]
  },
  {
   "cell_type": "code",
   "execution_count": null,
   "id": "b42ff2e8-b8ee-473b-9fb3-728e3b1f1a52",
   "metadata": {},
   "outputs": [],
   "source": [
    "# filtering rows where all the three areas are non-null\n",
    "\n",
    "all_present_df = data[~((data[\"super_built_up_area\"].isnull()) | (data[\"built_up_area\"].isnull()) | (data[\"carpet_area\"].isnull()))]"
   ]
  },
  {
   "cell_type": "code",
   "execution_count": null,
   "id": "c550a00d-c14c-4fe4-99ef-3e5807c56f91",
   "metadata": {},
   "outputs": [],
   "source": [
    "super_to_builtup_ratio = (all_present_df[\"super_built_up_area\"] / all_present_df[\"built_up_area\"]).median()"
   ]
  },
  {
   "cell_type": "code",
   "execution_count": null,
   "id": "3c153ea3-a2c7-47b9-b6b2-00428102c178",
   "metadata": {},
   "outputs": [],
   "source": [
    "carpet_to_builtup_ratio = (all_present_df[\"carpet_area\"] / all_present_df[\"built_up_area\"]).median()"
   ]
  },
  {
   "cell_type": "code",
   "execution_count": null,
   "id": "6d4ff481-ad4b-4a4d-b66b-42bc0bd04485",
   "metadata": {},
   "outputs": [],
   "source": [
    "# builtup area null , super builtup and carpet area present\n",
    "sbc_df = data[~(data[\"super_built_up_area\"].isnull()) & ~(data[\"carpet_area\"].isnull()) & (data[\"built_up_area\"].isnull())]"
   ]
  },
  {
   "cell_type": "code",
   "execution_count": null,
   "id": "6d30de83-5bc8-4a1c-8a4d-96b5584405ce",
   "metadata": {},
   "outputs": [],
   "source": [
    "sbc_df[\"built_up_area\"].fillna(round(((sbc_df[\"super_built_up_area\"] / super_to_builtup_ratio) + (sbc_df[\"carpet_area\"] / carpet_to_builtup_ratio)) / 2), inplace=True)"
   ]
  },
  {
   "cell_type": "code",
   "execution_count": null,
   "id": "f2c92b43-90a9-46ca-bcf1-ef2c9b815b08",
   "metadata": {},
   "outputs": [],
   "source": [
    "data.update(sbc_df)"
   ]
  },
  {
   "cell_type": "code",
   "execution_count": null,
   "id": "a089f7c2-4285-449d-86e8-1881e00ce807",
   "metadata": {},
   "outputs": [],
   "source": [
    "data[\"built_up_area\"].isna().sum()"
   ]
  },
  {
   "cell_type": "code",
   "execution_count": null,
   "id": "224fe938-9e0c-46c8-a168-aa86d36a52c5",
   "metadata": {},
   "outputs": [],
   "source": [
    "#filtering data where super builtup area is available, carpet and builtup areas are null\n",
    "sb_df = data[~(data[\"super_built_up_area\"].isnull()) & (data[\"built_up_area\"].isnull()) & (data[\"carpet_area\"].isnull())]"
   ]
  },
  {
   "cell_type": "code",
   "execution_count": null,
   "id": "909cb715-b74c-4233-ad97-d60ede2d0a76",
   "metadata": {},
   "outputs": [],
   "source": [
    "sb_df[\"built_up_area\"].fillna(round(sb_df[\"super_built_up_area\"] / super_to_builtup_ratio), inplace=True)"
   ]
  },
  {
   "cell_type": "code",
   "execution_count": null,
   "id": "47e0816e-26fa-473b-904b-00af615ee48c",
   "metadata": {},
   "outputs": [],
   "source": [
    "data.update(sb_df)"
   ]
  },
  {
   "cell_type": "code",
   "execution_count": null,
   "id": "d2e1efe0-62d3-465b-8d28-afa46ea47a22",
   "metadata": {},
   "outputs": [],
   "source": [
    "data[\"built_up_area\"].isna().sum()"
   ]
  },
  {
   "cell_type": "code",
   "execution_count": null,
   "id": "8f227277-dc2c-4d3b-9a85-59c16776705b",
   "metadata": {},
   "outputs": [],
   "source": [
    "# only carpet area present, rest are null\n",
    "\n",
    "c_df= data[(data[\"super_built_up_area\"].isnull()) & (data[\"built_up_area\"].isnull()) & ~(data[\"carpet_area\"].isnull())]"
   ]
  },
  {
   "cell_type": "code",
   "execution_count": null,
   "id": "f1e306fb-46f0-4f39-9b42-718b2e21829d",
   "metadata": {},
   "outputs": [],
   "source": [
    "c_df[\"built_up_area\"].fillna(round(c_df[\"carpet_area\"] / carpet_to_builtup_ratio), inplace=True)"
   ]
  },
  {
   "cell_type": "code",
   "execution_count": null,
   "id": "706537c9-41c5-49e1-b7b5-f5889f3b9a98",
   "metadata": {},
   "outputs": [],
   "source": [
    "data.update(c_df)"
   ]
  },
  {
   "cell_type": "code",
   "execution_count": null,
   "id": "22ee0462-8d08-46d4-8cc0-715a32e9abe1",
   "metadata": {},
   "outputs": [],
   "source": [
    "data[\"built_up_area\"].isna().sum()"
   ]
  },
  {
   "cell_type": "code",
   "execution_count": null,
   "id": "f4c04895-2695-4d9f-819e-f18efd6c2f2d",
   "metadata": {},
   "outputs": [],
   "source": []
  },
  {
   "cell_type": "markdown",
   "id": "89566919-0de0-4225-9279-ebd148097db8",
   "metadata": {},
   "source": [
    "# Analyzing builtup area and price"
   ]
  },
  {
   "cell_type": "code",
   "execution_count": null,
   "id": "d1fbb48e-5507-43d2-83e0-1dd25d786f80",
   "metadata": {},
   "outputs": [],
   "source": [
    "sns.scatterplot(data=data, x=\"built_up_area\", y=\"price\")\n",
    "plt.show()"
   ]
  },
  {
   "cell_type": "markdown",
   "id": "775f30f2-22cf-441c-b6b3-985c3703c9bb",
   "metadata": {},
   "source": [
    "- For the most part, as builtup area increases, price increases -> seems logical\n",
    "- There are some properties where builtup area < 2000 but price goes up till 25 crores."
   ]
  },
  {
   "cell_type": "code",
   "execution_count": null,
   "id": "80b4e40f-2ee8-4169-8e20-e906fe99597e",
   "metadata": {},
   "outputs": [],
   "source": [
    "anomaly_df = data[(data[\"built_up_area\"] < 2000) & (data[\"price\"] > 2.5)][[\"price\", \"area\", \"built_up_area\"]]"
   ]
  },
  {
   "cell_type": "markdown",
   "id": "1c7a1455-1ca8-4320-9745-2063632ec58d",
   "metadata": {},
   "source": [
    "- Upon analyzing these anomalies, it seemed that area values justified the price, but builtup area values didnt.\n",
    "- So, I simply replaced the builtup area values with area values."
   ]
  },
  {
   "cell_type": "code",
   "execution_count": null,
   "id": "50ef6ff2-5c43-4862-a154-e117cc7904e6",
   "metadata": {},
   "outputs": [],
   "source": [
    "anomaly_df[\"built_up_area\"] = anomaly_df[\"area\"]"
   ]
  },
  {
   "cell_type": "code",
   "execution_count": null,
   "id": "879374bb-c563-4c75-971f-200c65c1ca71",
   "metadata": {},
   "outputs": [],
   "source": [
    "data.update(anomaly_df)"
   ]
  },
  {
   "cell_type": "code",
   "execution_count": null,
   "id": "a3cc8792-26fc-4202-9070-6445059bb701",
   "metadata": {},
   "outputs": [],
   "source": [
    "sns.scatterplot(data=data, x=\"built_up_area\", y=\"price\")\n",
    "plt.title(\"After treating anomalies\")\n",
    "plt.show()"
   ]
  },
  {
   "cell_type": "code",
   "execution_count": null,
   "id": "518bd718-4d30-4117-8f00-7b5be5695258",
   "metadata": {},
   "outputs": [],
   "source": [
    "data.columns"
   ]
  },
  {
   "cell_type": "code",
   "execution_count": null,
   "id": "4839ffd1-2f53-4e99-b8dc-8787fc1c2fa3",
   "metadata": {},
   "outputs": [],
   "source": [
    "# dropping some unnecessary columns\n",
    "data.drop(columns=[\"area\", \"areaWithType\" , \"super_built_up_area\", \"carpet_area\", \"area_room_ratio\"], inplace=True)"
   ]
  },
  {
   "cell_type": "code",
   "execution_count": null,
   "id": "13e6c00d-995b-47f6-aef3-e56ab235eec6",
   "metadata": {},
   "outputs": [],
   "source": [
    "data.shape"
   ]
  },
  {
   "cell_type": "code",
   "execution_count": null,
   "id": "e8c15ee1-457f-4f62-b3c1-639940a56aca",
   "metadata": {},
   "outputs": [],
   "source": []
  },
  {
   "cell_type": "markdown",
   "id": "d95dca74-596b-4bec-b937-dfcb55794b82",
   "metadata": {},
   "source": [
    "# floorNum"
   ]
  },
  {
   "cell_type": "code",
   "execution_count": null,
   "id": "7fdd520c-71ee-4deb-ab70-e95c6f95f1bb",
   "metadata": {},
   "outputs": [],
   "source": [
    "data[\"floorNum\"].isnull().sum()"
   ]
  },
  {
   "cell_type": "code",
   "execution_count": null,
   "id": "88d1e108-6e87-4751-91f9-30fca0bf1feb",
   "metadata": {
    "tags": []
   },
   "outputs": [],
   "source": [
    "data[data[\"floorNum\"].isnull()]"
   ]
  },
  {
   "cell_type": "markdown",
   "id": "1d1f8ed1-37da-4c7d-a882-304e2aaa2b54",
   "metadata": {},
   "source": [
    "- there are 17 rows where floorNum value is missing\n",
    "- 15 of these are houses\n",
    "- filling these null values with median number of floors of all houses in the data"
   ]
  },
  {
   "cell_type": "code",
   "execution_count": null,
   "id": "0126eceb-f103-42a6-a3ea-ab07abdd85e1",
   "metadata": {},
   "outputs": [],
   "source": [
    "data[data[\"property_type\"] == \"house\"][\"floorNum\"].median()"
   ]
  },
  {
   "cell_type": "code",
   "execution_count": null,
   "id": "cc8cf014-2211-419d-958c-67dd4ceb17b8",
   "metadata": {},
   "outputs": [],
   "source": [
    "data[\"floorNum\"].fillna(2, inplace=True)"
   ]
  },
  {
   "cell_type": "code",
   "execution_count": null,
   "id": "52c9e4c4-6186-4971-8e03-74290eae745c",
   "metadata": {},
   "outputs": [],
   "source": [
    "data[\"floorNum\"].isnull().sum()"
   ]
  },
  {
   "cell_type": "code",
   "execution_count": null,
   "id": "d3f67b00-a180-4711-8b34-65f6e0b3c5b4",
   "metadata": {},
   "outputs": [],
   "source": []
  },
  {
   "cell_type": "markdown",
   "id": "994d15fd-f743-491e-855b-62331c7ec35c",
   "metadata": {},
   "source": [
    "# facing"
   ]
  },
  {
   "cell_type": "code",
   "execution_count": null,
   "id": "3b58d32c-5268-44c3-91bb-eef401d1e931",
   "metadata": {},
   "outputs": [],
   "source": [
    "data[\"facing\"].isnull().sum()"
   ]
  },
  {
   "cell_type": "code",
   "execution_count": null,
   "id": "ff400b8d-59e1-40c6-95a6-b63c2db3d597",
   "metadata": {},
   "outputs": [],
   "source": [
    "data[\"facing\"].value_counts().plot(kind=\"pie\", autopct=\"%.2f%%\")\n",
    "plt.show()"
   ]
  },
  {
   "cell_type": "code",
   "execution_count": null,
   "id": "1217b213-ee92-4404-82aa-bc176119a4cd",
   "metadata": {},
   "outputs": [],
   "source": [
    "data[\"facing\"].isnull().sum() / len(data)"
   ]
  },
  {
   "cell_type": "markdown",
   "id": "1f8bd47d-83d5-4ca5-9797-522e8f4e0119",
   "metadata": {},
   "source": [
    "- 28% values are missing\n",
    "- facing is not a crucial feature for predicting price\n",
    "- dropping facing column"
   ]
  },
  {
   "cell_type": "code",
   "execution_count": null,
   "id": "14dc44cd-364c-44e7-bd4c-359a93b7bdb6",
   "metadata": {},
   "outputs": [],
   "source": [
    "data.drop(columns=\"facing\", inplace=True)"
   ]
  },
  {
   "cell_type": "code",
   "execution_count": null,
   "id": "2eadc0a9-e1a2-48b1-b77f-56c95a84f55e",
   "metadata": {},
   "outputs": [],
   "source": []
  },
  {
   "cell_type": "markdown",
   "id": "6b891696-afca-4c75-a302-474f6153d1f6",
   "metadata": {},
   "source": [
    "# society"
   ]
  },
  {
   "cell_type": "code",
   "execution_count": null,
   "id": "0d6d5895-6fcb-4078-8ad9-2e0a3606e241",
   "metadata": {},
   "outputs": [],
   "source": [
    "data[\"society\"].isnull().sum()"
   ]
  },
  {
   "cell_type": "code",
   "execution_count": null,
   "id": "25475189-4e91-4ec3-a918-24006b19a825",
   "metadata": {},
   "outputs": [],
   "source": [
    "data[data[\"society\"].isnull()]"
   ]
  },
  {
   "cell_type": "code",
   "execution_count": null,
   "id": "0748a183-41f7-4f51-9f54-fc4f4fd9dfbd",
   "metadata": {},
   "outputs": [],
   "source": [
    "data.drop(index=2536, inplace=True)"
   ]
  },
  {
   "cell_type": "code",
   "execution_count": null,
   "id": "177ad650-eacb-4b22-a246-e1a2c109433d",
   "metadata": {},
   "outputs": [],
   "source": [
    "data[\"society\"].isnull().sum()"
   ]
  },
  {
   "cell_type": "code",
   "execution_count": null,
   "id": "5e7b4d11-6f0c-451f-9b14-e53ebb41b3f6",
   "metadata": {},
   "outputs": [],
   "source": []
  },
  {
   "cell_type": "markdown",
   "id": "ac7ccbca-31fb-4ae9-9048-35d7b01d5bf7",
   "metadata": {},
   "source": [
    "# agePossession"
   ]
  },
  {
   "cell_type": "code",
   "execution_count": null,
   "id": "4e9da88c-663e-49c9-988e-be2372ae2ee8",
   "metadata": {},
   "outputs": [],
   "source": [
    "data[\"agePossession\"].value_counts()"
   ]
  },
  {
   "cell_type": "code",
   "execution_count": null,
   "id": "5ec3adf1-6434-4307-a654-213ca4be000e",
   "metadata": {},
   "outputs": [],
   "source": [
    "def mode_based_imputation(row):\n",
    "    \"\"\"fills missing values of agePossession column based on sector and property type columns\"\"\"\n",
    "    if row[\"agePossession\"] == \"Undefined\":\n",
    "        mode = data[(data[\"sector\"] == row[\"sector\"]) & (data[\"property_type\"] == row[\"property_type\"])][\"agePossession\"].mode()\n",
    "        if not mode.empty:\n",
    "            return mode.iat[0]\n",
    "        else:\n",
    "            return np.nan\n",
    "    else:\n",
    "        return row[\"agePossession\"]"
   ]
  },
  {
   "cell_type": "code",
   "execution_count": null,
   "id": "a2dbb4af-5f2f-41be-ad79-1db191cce411",
   "metadata": {},
   "outputs": [],
   "source": [
    "data[\"agePossession\"] = data.apply(mode_based_imputation, axis=1)"
   ]
  },
  {
   "cell_type": "code",
   "execution_count": null,
   "id": "fba0e72c-4a0a-4abb-a4b6-44c0b9e99044",
   "metadata": {},
   "outputs": [],
   "source": [
    "data[\"agePossession\"].value_counts()"
   ]
  },
  {
   "cell_type": "code",
   "execution_count": null,
   "id": "b2e2094b-7732-4861-9103-38a3c0111dae",
   "metadata": {
    "tags": []
   },
   "outputs": [],
   "source": [
    "data[data[\"agePossession\"] == \"Undefined\"]"
   ]
  },
  {
   "cell_type": "code",
   "execution_count": null,
   "id": "86c07059-8e0b-4c7b-b602-5eb7613fcb6e",
   "metadata": {},
   "outputs": [],
   "source": [
    "def mode_based_imputation2(row):\n",
    "    \"\"\"fills null values of agePossession column based on sector only\"\"\"\n",
    "    if row[\"agePossession\"] == \"Undefined\":\n",
    "        mode = data[data[\"sector\"] == row[\"sector\"]][\"agePossession\"].mode()\n",
    "        if not mode.empty:\n",
    "            return mode.iat[0]\n",
    "        else:\n",
    "            return np.nan\n",
    "    else:\n",
    "        return row[\"agePossession\"]"
   ]
  },
  {
   "cell_type": "code",
   "execution_count": null,
   "id": "7e55e5ef-c49d-4865-8189-437aaf82864b",
   "metadata": {},
   "outputs": [],
   "source": [
    "data[\"agePossession\"] = data.apply(mode_based_imputation2, axis=1)"
   ]
  },
  {
   "cell_type": "code",
   "execution_count": null,
   "id": "daa5fe1f-ca68-4fd9-b42d-f0247e194d4c",
   "metadata": {},
   "outputs": [],
   "source": [
    "data[\"agePossession\"].value_counts()"
   ]
  },
  {
   "cell_type": "code",
   "execution_count": null,
   "id": "7a86e2d8-61a9-4c3a-ade0-d3b881bf1f7a",
   "metadata": {},
   "outputs": [],
   "source": [
    "def mode_based_imputation3(row):\n",
    "    \"\"\"fills null values of agePossession column based on property type only\"\"\"\n",
    "    if row[\"agePossession\"] == \"Undefined\":\n",
    "        mode = data[data[\"property_type\"] == row[\"property_type\"]][\"agePossession\"].mode()\n",
    "        if not mode.empty:\n",
    "            return mode.iat[0]\n",
    "        else:\n",
    "            return np.nan\n",
    "    else:\n",
    "        return row[\"agePossession\"]"
   ]
  },
  {
   "cell_type": "code",
   "execution_count": null,
   "id": "52402bf4-e347-4b2b-b9db-2d10456e07f3",
   "metadata": {},
   "outputs": [],
   "source": [
    "data[\"agePossession\"] = data.apply(mode_based_imputation3, axis=1)"
   ]
  },
  {
   "cell_type": "code",
   "execution_count": null,
   "id": "d9b9ab42-804b-4bac-a01a-bd6a89841793",
   "metadata": {},
   "outputs": [],
   "source": [
    "data[\"agePossession\"].value_counts()"
   ]
  },
  {
   "cell_type": "code",
   "execution_count": null,
   "id": "cfdd33a2-a273-45da-905e-843c395608bd",
   "metadata": {},
   "outputs": [],
   "source": []
  },
  {
   "cell_type": "code",
   "execution_count": null,
   "id": "00cdfa96-66e7-4a7f-b1ce-0596929b8b6c",
   "metadata": {},
   "outputs": [],
   "source": [
    "# exporting as csv file\n",
    "data.to_csv(\"gurgaon_properties_after_missing_value_imputation.csv\")"
   ]
  },
  {
   "cell_type": "code",
   "execution_count": null,
   "id": "2c1280d1-1484-4fe9-b0b9-49593d951f95",
   "metadata": {
    "tags": []
   },
   "outputs": [],
   "source": []
  }
 ],
 "metadata": {
  "kernelspec": {
   "display_name": "Python 3 (ipykernel)",
   "language": "python",
   "name": "python3"
  },
  "language_info": {
   "codemirror_mode": {
    "name": "ipython",
    "version": 3
   },
   "file_extension": ".py",
   "mimetype": "text/x-python",
   "name": "python",
   "nbconvert_exporter": "python",
   "pygments_lexer": "ipython3",
   "version": "3.9.13"
  }
 },
 "nbformat": 4,
 "nbformat_minor": 5
}
